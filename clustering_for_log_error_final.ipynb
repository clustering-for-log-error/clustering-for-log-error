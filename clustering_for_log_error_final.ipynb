{
 "cells": [
  {
   "cell_type": "markdown",
   "metadata": {},
   "source": [
    "**1.** [**Project Plan**](#Project_Plan)<br>\n",
    "**2.** [**Data Acquistion**](#acquire_data)<br>\n",
    "**3.** [**Exploration**](#explore_data)<br>\n",
    "**4.** [**Clustering**](#cluster_data)<br>\n",
    "**5.** [**Modeling**](#model_data)<br>\n",
    "**6.** [**Conclusions**](#conclusions)<br>"
   ]
  },
  {
   "cell_type": "markdown",
   "metadata": {},
   "source": [
    "# Project Plan"
   ]
  },
  {
   "cell_type": "markdown",
   "metadata": {},
   "source": [
    "### Background\n",
    "\n",
    "> Using 2017 properties and prediction data from our Zillow database for single unit/single family homes, we were tasking with improving the log error (Zestimate)\n",
    "> To accomplish this the team used clustering methodologies to find patterns in terms of which features had the greatest effect on log error\n",
    "> Using the features which produced the best clusters, create a model to predict logerror"
   ]
  },
  {
   "cell_type": "markdown",
   "metadata": {},
   "source": [
    "### Deliverables\n",
    "**The deliverables for this project are the following data assets:**\n",
    "- Report detailing our analysis in an .ipynb format\n",
    "- Detailed README on a Github and repo containing all files for this project\n",
    "- All .py files that are necessary to reproducible work"
   ]
  },
  {
   "cell_type": "markdown",
   "metadata": {},
   "source": [
    "<a id='Project_Plan'></a>"
   ]
  },
  {
   "cell_type": "code",
   "execution_count": 1,
   "metadata": {},
   "outputs": [],
   "source": [
    "# ignore warnings\n",
    "import warnings\n",
    "warnings.filterwarnings(\"ignore\")\n",
    "\n",
    "# general\n",
    "import pandas as pd\n",
    "import numpy as np\n",
    "\n",
    "# explore/ stat\n",
    "import scipy.stats as stats\n",
    "\n",
    "# visuals\n",
    "import matplotlib.pyplot as plt\n",
    "import seaborn as sns\n",
    "%matplotlib inline\n",
    "from mpl_toolkits.mplot3d import Axes3D\n",
    "\n",
    "# support modules\n",
    "import acquire\n",
    "import wrangle\n",
    "import prepare\n",
    "import split_scale\n",
    "import cluster\n",
    "import model\n",
    "\n",
    "# look at function for summarize plot\n",
    "# import summarize\n",
    "# import prepare\n",
    "# import explore\n",
    "# import split_scale\n",
    "\n",
    "# modeling\n",
    "from sklearn.cluster import KMeans, dbscan\n",
    "from sklearn.linear_model import LinearRegression\n",
    "from sklearn.preprocessing import PolynomialFeatures\n",
    "from sklearn.linear_model import LogisticRegression\n",
    "from sklearn.metrics import classification_report\n",
    "from sklearn.metrics import confusion_matrix\n",
    "from sklearn.tree import DecisionTreeRegressor\n",
    "from sklearn.model_selection import cross_val_predict\n",
    "from sklearn.ensemble import RandomForestRegressor\n",
    "from sklearn.neighbors import KNeighborsClassifier\n",
    "from sklearn.linear_model import ElasticNet\n",
    "from sklearn.linear_model import Lasso\n",
    "from sklearn.linear_model import Ridge\n",
    "\n",
    "from math import sqrt\n",
    "from sklearn.metrics import mean_squared_error, r2_score, explained_variance_score\n",
    "\n",
    "# view full DF\n",
    "pd.set_option('display.max_columns', None)"
   ]
  },
  {
   "cell_type": "markdown",
   "metadata": {},
   "source": [
    "# Aquisition and Prep"
   ]
  },
  {
   "cell_type": "markdown",
   "metadata": {},
   "source": [
    "**Retrieve from the Codeup Zillow_db:**\n",
    "\n",
    "- Latest transactions occured within the year of 2017 for each property\n",
    "- Logerror\n",
    "- All fields related to each properties\n",
    "    - Fields known to have greater than 60% nulls were excluded from the query\n",
    "- Gather descriptions by joining description tables\n",
    "- Only properties where latitude and longitude are not null\n",
    "- Only properties where bedroom and bathroom count were not 0\n",
    "- Only single family homes (SFR)\n",
    "\n",
    "To create this dataframe use the get_zillow_data function from the acquire.py file"
   ]
  },
  {
   "cell_type": "code",
   "execution_count": 2,
   "metadata": {},
   "outputs": [
    {
     "data": {
      "text/html": [
       "<div>\n",
       "<style scoped>\n",
       "    .dataframe tbody tr th:only-of-type {\n",
       "        vertical-align: middle;\n",
       "    }\n",
       "\n",
       "    .dataframe tbody tr th {\n",
       "        vertical-align: top;\n",
       "    }\n",
       "\n",
       "    .dataframe thead th {\n",
       "        text-align: right;\n",
       "    }\n",
       "</style>\n",
       "<table border=\"1\" class=\"dataframe\">\n",
       "  <thead>\n",
       "    <tr style=\"text-align: right;\">\n",
       "      <th></th>\n",
       "      <th>parcelid</th>\n",
       "      <th>bathroomcnt</th>\n",
       "      <th>bedroomcnt</th>\n",
       "      <th>calculatedfinishedsquarefeet</th>\n",
       "      <th>fips</th>\n",
       "      <th>latitude</th>\n",
       "      <th>longitude</th>\n",
       "      <th>lotsizesquarefeet</th>\n",
       "      <th>yearbuilt</th>\n",
       "      <th>structuretaxvaluedollarcnt</th>\n",
       "      <th>taxvaluedollarcnt</th>\n",
       "      <th>landtaxvaluedollarcnt</th>\n",
       "      <th>taxamount</th>\n",
       "      <th>logerror</th>\n",
       "      <th>transactiondate</th>\n",
       "    </tr>\n",
       "  </thead>\n",
       "  <tbody>\n",
       "    <tr>\n",
       "      <td>0</td>\n",
       "      <td>14297519</td>\n",
       "      <td>3.5</td>\n",
       "      <td>4.0</td>\n",
       "      <td>3100.0</td>\n",
       "      <td>6059.0</td>\n",
       "      <td>33634931.0</td>\n",
       "      <td>-117869207.0</td>\n",
       "      <td>4506.0</td>\n",
       "      <td>1998.0</td>\n",
       "      <td>485713.0</td>\n",
       "      <td>1023282.0</td>\n",
       "      <td>537569.0</td>\n",
       "      <td>11013.72</td>\n",
       "      <td>0.025595</td>\n",
       "      <td>2017-01-01</td>\n",
       "    </tr>\n",
       "    <tr>\n",
       "      <td>1</td>\n",
       "      <td>17052889</td>\n",
       "      <td>1.0</td>\n",
       "      <td>2.0</td>\n",
       "      <td>1465.0</td>\n",
       "      <td>6111.0</td>\n",
       "      <td>34449266.0</td>\n",
       "      <td>-119281531.0</td>\n",
       "      <td>12647.0</td>\n",
       "      <td>1967.0</td>\n",
       "      <td>88000.0</td>\n",
       "      <td>464000.0</td>\n",
       "      <td>376000.0</td>\n",
       "      <td>5672.48</td>\n",
       "      <td>0.055619</td>\n",
       "      <td>2017-01-01</td>\n",
       "    </tr>\n",
       "    <tr>\n",
       "      <td>2</td>\n",
       "      <td>14186244</td>\n",
       "      <td>2.0</td>\n",
       "      <td>3.0</td>\n",
       "      <td>1243.0</td>\n",
       "      <td>6059.0</td>\n",
       "      <td>33886168.0</td>\n",
       "      <td>-117823170.0</td>\n",
       "      <td>8432.0</td>\n",
       "      <td>1962.0</td>\n",
       "      <td>85289.0</td>\n",
       "      <td>564778.0</td>\n",
       "      <td>479489.0</td>\n",
       "      <td>6488.30</td>\n",
       "      <td>0.005383</td>\n",
       "      <td>2017-01-01</td>\n",
       "    </tr>\n",
       "    <tr>\n",
       "      <td>3</td>\n",
       "      <td>12177905</td>\n",
       "      <td>3.0</td>\n",
       "      <td>4.0</td>\n",
       "      <td>2376.0</td>\n",
       "      <td>6037.0</td>\n",
       "      <td>34245180.0</td>\n",
       "      <td>-118240722.0</td>\n",
       "      <td>13038.0</td>\n",
       "      <td>1970.0</td>\n",
       "      <td>108918.0</td>\n",
       "      <td>145143.0</td>\n",
       "      <td>36225.0</td>\n",
       "      <td>1777.51</td>\n",
       "      <td>-0.103410</td>\n",
       "      <td>2017-01-01</td>\n",
       "    </tr>\n",
       "    <tr>\n",
       "      <td>4</td>\n",
       "      <td>10887214</td>\n",
       "      <td>3.0</td>\n",
       "      <td>3.0</td>\n",
       "      <td>1312.0</td>\n",
       "      <td>6037.0</td>\n",
       "      <td>34185120.0</td>\n",
       "      <td>-118414640.0</td>\n",
       "      <td>278581.0</td>\n",
       "      <td>1964.0</td>\n",
       "      <td>73681.0</td>\n",
       "      <td>119407.0</td>\n",
       "      <td>45726.0</td>\n",
       "      <td>1533.89</td>\n",
       "      <td>0.006940</td>\n",
       "      <td>2017-01-01</td>\n",
       "    </tr>\n",
       "  </tbody>\n",
       "</table>\n",
       "</div>"
      ],
      "text/plain": [
       "   parcelid  bathroomcnt  bedroomcnt  calculatedfinishedsquarefeet    fips  \\\n",
       "0  14297519          3.5         4.0                        3100.0  6059.0   \n",
       "1  17052889          1.0         2.0                        1465.0  6111.0   \n",
       "2  14186244          2.0         3.0                        1243.0  6059.0   \n",
       "3  12177905          3.0         4.0                        2376.0  6037.0   \n",
       "4  10887214          3.0         3.0                        1312.0  6037.0   \n",
       "\n",
       "     latitude    longitude  lotsizesquarefeet  yearbuilt  \\\n",
       "0  33634931.0 -117869207.0             4506.0     1998.0   \n",
       "1  34449266.0 -119281531.0            12647.0     1967.0   \n",
       "2  33886168.0 -117823170.0             8432.0     1962.0   \n",
       "3  34245180.0 -118240722.0            13038.0     1970.0   \n",
       "4  34185120.0 -118414640.0           278581.0     1964.0   \n",
       "\n",
       "   structuretaxvaluedollarcnt  taxvaluedollarcnt  landtaxvaluedollarcnt  \\\n",
       "0                    485713.0          1023282.0               537569.0   \n",
       "1                     88000.0           464000.0               376000.0   \n",
       "2                     85289.0           564778.0               479489.0   \n",
       "3                    108918.0           145143.0                36225.0   \n",
       "4                     73681.0           119407.0                45726.0   \n",
       "\n",
       "   taxamount  logerror transactiondate  \n",
       "0   11013.72  0.025595      2017-01-01  \n",
       "1    5672.48  0.055619      2017-01-01  \n",
       "2    6488.30  0.005383      2017-01-01  \n",
       "3    1777.51 -0.103410      2017-01-01  \n",
       "4    1533.89  0.006940      2017-01-01  "
      ]
     },
     "execution_count": 2,
     "metadata": {},
     "output_type": "execute_result"
    }
   ],
   "source": [
    "df = acquire.get_zillow_data()\n",
    "\n",
    "df.head()"
   ]
  },
  {
   "cell_type": "markdown",
   "metadata": {},
   "source": [
    "### The following transofmations we achieved through a series of functions:\n",
    "> - ensure there are no nulls\n",
    "> - remove all outliers are removed\n",
    "> - create dervied features \n",
    "> - assigned intuitive names to each feature\n",
    "\n",
    "- All datatypes are appropriate for our use"
   ]
  },
  {
   "cell_type": "code",
   "execution_count": 3,
   "metadata": {},
   "outputs": [
    {
     "data": {
      "text/plain": [
       "(76725, 15)"
      ]
     },
     "execution_count": 3,
     "metadata": {},
     "output_type": "execute_result"
    }
   ],
   "source": [
    "df.shape"
   ]
  },
  {
   "cell_type": "code",
   "execution_count": 4,
   "metadata": {},
   "outputs": [
    {
     "data": {
      "text/plain": [
       "parcelid                           0\n",
       "bathroomcnt                        0\n",
       "bedroomcnt                         0\n",
       "calculatedfinishedsquarefeet      11\n",
       "fips                               0\n",
       "latitude                           0\n",
       "longitude                          0\n",
       "lotsizesquarefeet               8152\n",
       "yearbuilt                         65\n",
       "structuretaxvaluedollarcnt        87\n",
       "taxvaluedollarcnt                  1\n",
       "landtaxvaluedollarcnt              1\n",
       "taxamount                          5\n",
       "logerror                           0\n",
       "transactiondate                    0\n",
       "dtype: int64"
      ]
     },
     "execution_count": 4,
     "metadata": {},
     "output_type": "execute_result"
    }
   ],
   "source": [
    "df.isnull().sum()"
   ]
  },
  {
   "cell_type": "code",
   "execution_count": 5,
   "metadata": {},
   "outputs": [
    {
     "data": {
      "text/plain": [
       "parcelid                        0\n",
       "bathroomcnt                     0\n",
       "bedroomcnt                      0\n",
       "calculatedfinishedsquarefeet    0\n",
       "fips                            0\n",
       "latitude                        0\n",
       "longitude                       0\n",
       "lotsizesquarefeet               0\n",
       "yearbuilt                       0\n",
       "structuretaxvaluedollarcnt      0\n",
       "taxvaluedollarcnt               0\n",
       "landtaxvaluedollarcnt           0\n",
       "taxamount                       0\n",
       "logerror                        0\n",
       "transactiondate                 0\n",
       "dtype: int64"
      ]
     },
     "execution_count": 5,
     "metadata": {},
     "output_type": "execute_result"
    }
   ],
   "source": [
    "df = wrangle.handle_nulls(df)\n",
    "df.isnull().sum()"
   ]
  },
  {
   "cell_type": "markdown",
   "metadata": {},
   "source": [
    "**Create synthetic features**"
   ]
  },
  {
   "cell_type": "code",
   "execution_count": 6,
   "metadata": {},
   "outputs": [],
   "source": [
    "df = wrangle.prepare_zillow(df)\n",
    "\n",
    "df = prepare.tax_rate(df)"
   ]
  },
  {
   "cell_type": "code",
   "execution_count": 7,
   "metadata": {},
   "outputs": [],
   "source": [
    "# remove outliers in these coloumns\n",
    "col_out = [\"bathroomcnt\", \"bedroomcnt\", \"tax_rate\", \"calculatedfinishedsquarefeet\", \n",
    "           \"lotsizesquarefeet\", \"structuretaxvaluedollarcnt\", \"taxvaluedollarcnt\", \"landtaxvaluedollarcnt\"]\n",
    "\n",
    "df = prepare.remove_outliers_iqr(df, col_out)"
   ]
  },
  {
   "cell_type": "markdown",
   "metadata": {},
   "source": [
    "- We noticed there were still a few features with some extreme values so we employed a more conventional method"
   ]
  },
  {
   "cell_type": "code",
   "execution_count": 8,
   "metadata": {},
   "outputs": [],
   "source": [
    "# Additional outlier removal\n",
    "df = df[((df.bathroomcnt <= 7) & (df.bedroomcnt <= 7) & \n",
    "         (df.bathroomcnt > 0) & \n",
    "         (df.bedroomcnt > 0) & \n",
    "         (df.calculatedfinishedsquarefeet < 7000) & \n",
    "         (df.tax_rate < .05)\n",
    "        )]"
   ]
  },
  {
   "cell_type": "code",
   "execution_count": 9,
   "metadata": {},
   "outputs": [],
   "source": [
    "df = prepare.bed_bath_ratio(df)\n",
    "df = prepare.better_names(df)"
   ]
  },
  {
   "cell_type": "code",
   "execution_count": 10,
   "metadata": {},
   "outputs": [
    {
     "data": {
      "text/html": [
       "<div>\n",
       "<style scoped>\n",
       "    .dataframe tbody tr th:only-of-type {\n",
       "        vertical-align: middle;\n",
       "    }\n",
       "\n",
       "    .dataframe tbody tr th {\n",
       "        vertical-align: top;\n",
       "    }\n",
       "\n",
       "    .dataframe thead th {\n",
       "        text-align: right;\n",
       "    }\n",
       "</style>\n",
       "<table border=\"1\" class=\"dataframe\">\n",
       "  <thead>\n",
       "    <tr style=\"text-align: right;\">\n",
       "      <th></th>\n",
       "      <th>longitude</th>\n",
       "      <th>latitude</th>\n",
       "      <th>age</th>\n",
       "      <th>bedroomcnt</th>\n",
       "      <th>bathroomcnt</th>\n",
       "      <th>square_footage</th>\n",
       "      <th>lot_size</th>\n",
       "      <th>house_value</th>\n",
       "      <th>land_value</th>\n",
       "      <th>full_value</th>\n",
       "      <th>tax_rate</th>\n",
       "      <th>Los_Angeles</th>\n",
       "      <th>Orange</th>\n",
       "      <th>Ventura</th>\n",
       "      <th>logerror</th>\n",
       "      <th>bed_bath_ratio</th>\n",
       "    </tr>\n",
       "  </thead>\n",
       "  <tbody>\n",
       "    <tr>\n",
       "      <td>0</td>\n",
       "      <td>-117869207.0</td>\n",
       "      <td>33634931.0</td>\n",
       "      <td>19.0</td>\n",
       "      <td>4.0</td>\n",
       "      <td>3.5</td>\n",
       "      <td>3100.0</td>\n",
       "      <td>4506.0</td>\n",
       "      <td>485713.0</td>\n",
       "      <td>537569.0</td>\n",
       "      <td>1023282.0</td>\n",
       "      <td>0.010763</td>\n",
       "      <td>0</td>\n",
       "      <td>1</td>\n",
       "      <td>0</td>\n",
       "      <td>0.025595</td>\n",
       "      <td>1.142857</td>\n",
       "    </tr>\n",
       "    <tr>\n",
       "      <td>1</td>\n",
       "      <td>-119281531.0</td>\n",
       "      <td>34449266.0</td>\n",
       "      <td>50.0</td>\n",
       "      <td>2.0</td>\n",
       "      <td>1.0</td>\n",
       "      <td>1465.0</td>\n",
       "      <td>12647.0</td>\n",
       "      <td>88000.0</td>\n",
       "      <td>376000.0</td>\n",
       "      <td>464000.0</td>\n",
       "      <td>0.012225</td>\n",
       "      <td>0</td>\n",
       "      <td>0</td>\n",
       "      <td>1</td>\n",
       "      <td>0.055619</td>\n",
       "      <td>2.000000</td>\n",
       "    </tr>\n",
       "    <tr>\n",
       "      <td>2</td>\n",
       "      <td>-117823170.0</td>\n",
       "      <td>33886168.0</td>\n",
       "      <td>55.0</td>\n",
       "      <td>3.0</td>\n",
       "      <td>2.0</td>\n",
       "      <td>1243.0</td>\n",
       "      <td>8432.0</td>\n",
       "      <td>85289.0</td>\n",
       "      <td>479489.0</td>\n",
       "      <td>564778.0</td>\n",
       "      <td>0.011488</td>\n",
       "      <td>0</td>\n",
       "      <td>1</td>\n",
       "      <td>0</td>\n",
       "      <td>0.005383</td>\n",
       "      <td>1.500000</td>\n",
       "    </tr>\n",
       "    <tr>\n",
       "      <td>3</td>\n",
       "      <td>-118240722.0</td>\n",
       "      <td>34245180.0</td>\n",
       "      <td>47.0</td>\n",
       "      <td>4.0</td>\n",
       "      <td>3.0</td>\n",
       "      <td>2376.0</td>\n",
       "      <td>13038.0</td>\n",
       "      <td>108918.0</td>\n",
       "      <td>36225.0</td>\n",
       "      <td>145143.0</td>\n",
       "      <td>0.012247</td>\n",
       "      <td>1</td>\n",
       "      <td>0</td>\n",
       "      <td>0</td>\n",
       "      <td>-0.103410</td>\n",
       "      <td>1.333333</td>\n",
       "    </tr>\n",
       "    <tr>\n",
       "      <td>5</td>\n",
       "      <td>-118993991.0</td>\n",
       "      <td>34230044.0</td>\n",
       "      <td>35.0</td>\n",
       "      <td>3.0</td>\n",
       "      <td>2.0</td>\n",
       "      <td>1492.0</td>\n",
       "      <td>903.0</td>\n",
       "      <td>198640.0</td>\n",
       "      <td>132424.0</td>\n",
       "      <td>331064.0</td>\n",
       "      <td>0.010596</td>\n",
       "      <td>0</td>\n",
       "      <td>0</td>\n",
       "      <td>1</td>\n",
       "      <td>-0.020526</td>\n",
       "      <td>1.500000</td>\n",
       "    </tr>\n",
       "  </tbody>\n",
       "</table>\n",
       "</div>"
      ],
      "text/plain": [
       "     longitude    latitude   age  bedroomcnt  bathroomcnt  square_footage  \\\n",
       "0 -117869207.0  33634931.0  19.0         4.0          3.5          3100.0   \n",
       "1 -119281531.0  34449266.0  50.0         2.0          1.0          1465.0   \n",
       "2 -117823170.0  33886168.0  55.0         3.0          2.0          1243.0   \n",
       "3 -118240722.0  34245180.0  47.0         4.0          3.0          2376.0   \n",
       "5 -118993991.0  34230044.0  35.0         3.0          2.0          1492.0   \n",
       "\n",
       "   lot_size  house_value  land_value  full_value  tax_rate  Los_Angeles  \\\n",
       "0    4506.0     485713.0    537569.0   1023282.0  0.010763            0   \n",
       "1   12647.0      88000.0    376000.0    464000.0  0.012225            0   \n",
       "2    8432.0      85289.0    479489.0    564778.0  0.011488            0   \n",
       "3   13038.0     108918.0     36225.0    145143.0  0.012247            1   \n",
       "5     903.0     198640.0    132424.0    331064.0  0.010596            0   \n",
       "\n",
       "   Orange  Ventura  logerror  bed_bath_ratio  \n",
       "0       1        0  0.025595        1.142857  \n",
       "1       0        1  0.055619        2.000000  \n",
       "2       1        0  0.005383        1.500000  \n",
       "3       0        0 -0.103410        1.333333  \n",
       "5       0        1 -0.020526        1.500000  "
      ]
     },
     "execution_count": 10,
     "metadata": {},
     "output_type": "execute_result"
    }
   ],
   "source": [
    "df.head()"
   ]
  },
  {
   "cell_type": "code",
   "execution_count": 11,
   "metadata": {},
   "outputs": [
    {
     "data": {
      "text/plain": [
       "(59930, 16)"
      ]
     },
     "execution_count": 11,
     "metadata": {},
     "output_type": "execute_result"
    }
   ],
   "source": [
    "df.shape"
   ]
  },
  {
   "cell_type": "markdown",
   "metadata": {},
   "source": [
    "<a id='acquire_data'></a>"
   ]
  },
  {
   "cell_type": "code",
   "execution_count": 12,
   "metadata": {},
   "outputs": [],
   "source": [
    "# parcelDensity30000 = cluster.get_pde(df,30000)\n",
    "\n",
    "# plt.figure(figsize=(14,14))\n",
    "# plt.axis(\"off\")\n",
    "# plt.title(\"Parcel Density Estimation\")\n",
    "# plt.scatter(df['longitude'].values, df['latitude'].values, c=parcelDensity30000,cmap='inferno', s=1, edgecolor='')\n",
    "# plt.show()"
   ]
  },
  {
   "cell_type": "markdown",
   "metadata": {},
   "source": [
    "# Exploration"
   ]
  },
  {
   "cell_type": "markdown",
   "metadata": {},
   "source": [
    "During this section, the team identified patterns in the data which may help to isolate which features were most helpful in predicting churn.\n",
    "\n",
    "- Hypothesis testing in this section assesses the level of correlation between our independent variables and between our independent and target variables\n",
    "- Each descovery about a trend in the data is accompanied by a matching vizualization\n",
    "\n",
    "Before diving into exploration"
   ]
  },
  {
   "cell_type": "markdown",
   "metadata": {},
   "source": [
    "### Feature/Target Hypothesis\n",
    "- $H_0$: Bedroom and bathroom count have no effect on logerror\n",
    "- $H_a$: Bedroom and bathroom count do have an effect on logerror\n",
    "- _alpha ($\\alpha$): 1 - confidence level (95% confidence level -> $\\alpha = .05$)_"
   ]
  },
  {
   "cell_type": "markdown",
   "metadata": {},
   "source": [
    "### Feature/Feature Hypothesis\n",
    "- $H_0$: Bedroom and bathroom count are not related\n",
    "- $H_a$: Bedroom and bathroom count are related\n",
    "- _alpha ($\\alpha$): 1 - confidence level (95% confidence level -> $\\alpha = .05$)_"
   ]
  },
  {
   "cell_type": "markdown",
   "metadata": {},
   "source": [
    "### Value/Target Hypothesis\n",
    "- $H_0$: Overall home value has no effect on logerror\n",
    "- $H_a$: Over home value does have an effect on logerror\n",
    "- _alpha ($\\alpha$): 1 - confidence level (95% confidence level -> $\\alpha = .05$)_"
   ]
  },
  {
   "cell_type": "markdown",
   "metadata": {},
   "source": [
    "## Split and Scale"
   ]
  },
  {
   "cell_type": "markdown",
   "metadata": {},
   "source": [
    "- The data was split into train and test dataframes (70% and 30% respectively). A random seed was set for reproducibility.\n",
    "- Both sets of data were scaled using the MinMax scaler from SKlearn"
   ]
  },
  {
   "cell_type": "code",
   "execution_count": 13,
   "metadata": {},
   "outputs": [
    {
     "name": "stdout",
     "output_type": "stream",
     "text": [
      "train: (41951, 16)\n",
      "test: (17979, 16)\n"
     ]
    }
   ],
   "source": [
    "train, test = split_scale.train_test(df)\n",
    "print('train:', train.shape)\n",
    "print('test:', test.shape)"
   ]
  },
  {
   "cell_type": "code",
   "execution_count": 14,
   "metadata": {},
   "outputs": [
    {
     "data": {
      "text/html": [
       "<div>\n",
       "<style scoped>\n",
       "    .dataframe tbody tr th:only-of-type {\n",
       "        vertical-align: middle;\n",
       "    }\n",
       "\n",
       "    .dataframe tbody tr th {\n",
       "        vertical-align: top;\n",
       "    }\n",
       "\n",
       "    .dataframe thead th {\n",
       "        text-align: right;\n",
       "    }\n",
       "</style>\n",
       "<table border=\"1\" class=\"dataframe\">\n",
       "  <thead>\n",
       "    <tr style=\"text-align: right;\">\n",
       "      <th></th>\n",
       "      <th>longitude</th>\n",
       "      <th>latitude</th>\n",
       "      <th>age</th>\n",
       "      <th>bedroomcnt</th>\n",
       "      <th>bathroomcnt</th>\n",
       "      <th>square_footage</th>\n",
       "      <th>lot_size</th>\n",
       "      <th>house_value</th>\n",
       "      <th>land_value</th>\n",
       "      <th>full_value</th>\n",
       "      <th>tax_rate</th>\n",
       "      <th>Los_Angeles</th>\n",
       "      <th>Orange</th>\n",
       "      <th>Ventura</th>\n",
       "      <th>logerror</th>\n",
       "      <th>bed_bath_ratio</th>\n",
       "    </tr>\n",
       "  </thead>\n",
       "  <tbody>\n",
       "    <tr>\n",
       "      <td>44758</td>\n",
       "      <td>-118476118.0</td>\n",
       "      <td>34061074.0</td>\n",
       "      <td>78.0</td>\n",
       "      <td>3.0</td>\n",
       "      <td>2.0</td>\n",
       "      <td>2898.0</td>\n",
       "      <td>7070.0</td>\n",
       "      <td>375122.0</td>\n",
       "      <td>244299.0</td>\n",
       "      <td>619421.0</td>\n",
       "      <td>0.013315</td>\n",
       "      <td>1</td>\n",
       "      <td>0</td>\n",
       "      <td>0</td>\n",
       "      <td>1.775059</td>\n",
       "      <td>1.5</td>\n",
       "    </tr>\n",
       "    <tr>\n",
       "      <td>76378</td>\n",
       "      <td>-117984001.0</td>\n",
       "      <td>34019979.0</td>\n",
       "      <td>61.0</td>\n",
       "      <td>4.0</td>\n",
       "      <td>2.0</td>\n",
       "      <td>1937.0</td>\n",
       "      <td>6048.0</td>\n",
       "      <td>179233.0</td>\n",
       "      <td>218384.0</td>\n",
       "      <td>397617.0</td>\n",
       "      <td>0.011867</td>\n",
       "      <td>1</td>\n",
       "      <td>0</td>\n",
       "      <td>0</td>\n",
       "      <td>-0.116786</td>\n",
       "      <td>2.0</td>\n",
       "    </tr>\n",
       "    <tr>\n",
       "      <td>3539</td>\n",
       "      <td>-118461331.0</td>\n",
       "      <td>33974843.0</td>\n",
       "      <td>48.0</td>\n",
       "      <td>4.0</td>\n",
       "      <td>5.0</td>\n",
       "      <td>3199.0</td>\n",
       "      <td>2884.0</td>\n",
       "      <td>309266.0</td>\n",
       "      <td>924804.0</td>\n",
       "      <td>1234070.0</td>\n",
       "      <td>0.012103</td>\n",
       "      <td>1</td>\n",
       "      <td>0</td>\n",
       "      <td>0</td>\n",
       "      <td>0.008819</td>\n",
       "      <td>0.8</td>\n",
       "    </tr>\n",
       "    <tr>\n",
       "      <td>35048</td>\n",
       "      <td>-117922000.0</td>\n",
       "      <td>33854800.0</td>\n",
       "      <td>54.0</td>\n",
       "      <td>2.0</td>\n",
       "      <td>2.0</td>\n",
       "      <td>1157.0</td>\n",
       "      <td>7201.0</td>\n",
       "      <td>81120.0</td>\n",
       "      <td>193295.0</td>\n",
       "      <td>274415.0</td>\n",
       "      <td>0.012080</td>\n",
       "      <td>0</td>\n",
       "      <td>1</td>\n",
       "      <td>0</td>\n",
       "      <td>-0.017483</td>\n",
       "      <td>1.0</td>\n",
       "    </tr>\n",
       "    <tr>\n",
       "      <td>31603</td>\n",
       "      <td>-117687326.0</td>\n",
       "      <td>33522157.0</td>\n",
       "      <td>31.0</td>\n",
       "      <td>3.0</td>\n",
       "      <td>3.0</td>\n",
       "      <td>1555.0</td>\n",
       "      <td>8600.0</td>\n",
       "      <td>167386.0</td>\n",
       "      <td>327332.0</td>\n",
       "      <td>494718.0</td>\n",
       "      <td>0.010014</td>\n",
       "      <td>0</td>\n",
       "      <td>1</td>\n",
       "      <td>0</td>\n",
       "      <td>0.006042</td>\n",
       "      <td>1.0</td>\n",
       "    </tr>\n",
       "  </tbody>\n",
       "</table>\n",
       "</div>"
      ],
      "text/plain": [
       "         longitude    latitude   age  bedroomcnt  bathroomcnt  square_footage  \\\n",
       "44758 -118476118.0  34061074.0  78.0         3.0          2.0          2898.0   \n",
       "76378 -117984001.0  34019979.0  61.0         4.0          2.0          1937.0   \n",
       "3539  -118461331.0  33974843.0  48.0         4.0          5.0          3199.0   \n",
       "35048 -117922000.0  33854800.0  54.0         2.0          2.0          1157.0   \n",
       "31603 -117687326.0  33522157.0  31.0         3.0          3.0          1555.0   \n",
       "\n",
       "       lot_size  house_value  land_value  full_value  tax_rate  Los_Angeles  \\\n",
       "44758    7070.0     375122.0    244299.0    619421.0  0.013315            1   \n",
       "76378    6048.0     179233.0    218384.0    397617.0  0.011867            1   \n",
       "3539     2884.0     309266.0    924804.0   1234070.0  0.012103            1   \n",
       "35048    7201.0      81120.0    193295.0    274415.0  0.012080            0   \n",
       "31603    8600.0     167386.0    327332.0    494718.0  0.010014            0   \n",
       "\n",
       "       Orange  Ventura  logerror  bed_bath_ratio  \n",
       "44758       0        0  1.775059             1.5  \n",
       "76378       0        0 -0.116786             2.0  \n",
       "3539        0        0  0.008819             0.8  \n",
       "35048       1        0 -0.017483             1.0  \n",
       "31603       1        0  0.006042             1.0  "
      ]
     },
     "execution_count": 14,
     "metadata": {},
     "output_type": "execute_result"
    }
   ],
   "source": [
    "train.head()"
   ]
  },
  {
   "cell_type": "code",
   "execution_count": 15,
   "metadata": {},
   "outputs": [],
   "source": [
    "scaler, train_scaled, test_scaled = split_scale.min_max_scaler(train, test)"
   ]
  },
  {
   "cell_type": "markdown",
   "metadata": {},
   "source": [
    "### Target Exploration: Logerror"
   ]
  },
  {
   "cell_type": "code",
   "execution_count": 16,
   "metadata": {},
   "outputs": [],
   "source": [
    "# code to regulate the size of plots for the rest of notebook\n",
    "plt.rc('figure', figsize=(13, 10))\n",
    "plt.rc('font', size=13)"
   ]
  },
  {
   "cell_type": "code",
   "execution_count": 17,
   "metadata": {},
   "outputs": [],
   "source": [
    "# # overall logerror distribution \n",
    "# sns.distplot(df.logerror)"
   ]
  },
  {
   "cell_type": "code",
   "execution_count": 18,
   "metadata": {},
   "outputs": [],
   "source": [
    "# # absolute value of logerror\n",
    "# sns.kdeplot(df.logerror.abs(), shade=True)\n",
    "# plt.show()"
   ]
  },
  {
   "cell_type": "markdown",
   "metadata": {},
   "source": [
    "### Let's look at the correlation between the target variable and all other variables"
   ]
  },
  {
   "cell_type": "code",
   "execution_count": 19,
   "metadata": {},
   "outputs": [],
   "source": [
    "# # Heatmap to display correlation of the features and logerror.\n",
    "# plt.figure(figsize=(14, 10))\n",
    "# sns.heatmap(df.corr(), cmap='Greens', annot=True)"
   ]
  },
  {
   "cell_type": "markdown",
   "metadata": {},
   "source": [
    "### The heatmap doesn't show any particulary high linear correlation but there could still be certain features that have more of an impact on the target variable\n",
    "\n",
    "#### Let's take a closer look at some specific features :\n",
    "\n",
    "#### Is there a relationship between Bathroom count or Bedroom count and Logerror?"
   ]
  },
  {
   "cell_type": "code",
   "execution_count": 20,
   "metadata": {},
   "outputs": [],
   "source": [
    "# plt.figure(figsize=(14,8))\n",
    "# with sns.color_palette('Blues'):\n",
    "#     sns.barplot(x='bathroomcnt', y='logerror', data=train)\n",
    "# plt.xlabel('Bathroom Count')\n",
    "# plt.ylabel('Log Error')\n",
    "# plt.title('Does bathroom count impact log error?')\n",
    "# plt.show()"
   ]
  },
  {
   "cell_type": "markdown",
   "metadata": {},
   "source": [
    "### It looks like homes with smaller bathroom counts tend to produce smaller log error,\n",
    "> ### There are some major errors with home of 6 bathrooms\n",
    "> ### This could possibly be a driver of log error. We'll keep this feature in mind when whe head to clustering and futher modeling"
   ]
  },
  {
   "cell_type": "code",
   "execution_count": 21,
   "metadata": {},
   "outputs": [],
   "source": [
    "# plt.figure(figsize=(14,8))\n",
    "# with sns.color_palette(\"Blues\"):\n",
    "#     sns.barplot(x='bedroomcnt', y='logerror', data=train)\n",
    "# plt.xlabel('Bedroom Count')\n",
    "# plt.ylabel('Log Error')\n",
    "# plt.title('Does bedroom count impact log error?')\n",
    "# plt.show()\n"
   ]
  },
  {
   "cell_type": "markdown",
   "metadata": {},
   "source": [
    "### Bedroom count also shows some increse in logerror at higher counts\n",
    "> #### These are the two home features that we can vizually see some variation in log error\n"
   ]
  },
  {
   "cell_type": "code",
   "execution_count": 22,
   "metadata": {},
   "outputs": [],
   "source": [
    "# plt.figure(figsize=(14,8))\n",
    "# sns.scatterplot(x='tax_rate', y='logerror', data=train, alpha=.4)\n",
    "# plt.xlabel('Tax Rate')\n",
    "# plt.ylabel('Log Error')\n",
    "# plt.title('Does tax rate impact log error?')\n",
    "# plt.show()"
   ]
  },
  {
   "cell_type": "code",
   "execution_count": 23,
   "metadata": {},
   "outputs": [],
   "source": [
    "# plt.figure(figsize=(14,8))\n",
    "# sns.scatterplot(x='square_footage', y='logerror', data=train, alpha=.4)\n",
    "# plt.xlabel('Finished Square Feet')\n",
    "# plt.ylabel('Log Error')\n",
    "# plt.title('Does the finished square feet of a home impact log error?')\n",
    "# plt.show()"
   ]
  },
  {
   "cell_type": "markdown",
   "metadata": {},
   "source": [
    "<a id='explore_data'></a>"
   ]
  },
  {
   "cell_type": "markdown",
   "metadata": {},
   "source": [
    "# Clustering"
   ]
  },
  {
   "cell_type": "markdown",
   "metadata": {},
   "source": [
    "### Features were grouped into 4 categories:\n",
    "> -  Physical position\n",
    "> - Age of home\n",
    "> -  Value of home\n",
    "> - Home features\n",
    "\n",
    "__We constructed several clusters using unique combinations of these features and evaluated them using ttests to determine significance of relationship between each group within the cluster and the target variable *logerror*.__\n",
    "\n",
    "Our two best performing clusters are displayed below:"
   ]
  },
  {
   "cell_type": "markdown",
   "metadata": {},
   "source": [
    "### First Cluster groups according to physical position and home features\n",
    "> - #### Latitude\n",
    "> - #### Longitude\n",
    "> - #### Lot_size\n",
    "> - #### Square_footage"
   ]
  },
  {
   "cell_type": "code",
   "execution_count": 24,
   "metadata": {},
   "outputs": [],
   "source": [
    "cluster_vars = train_scaled[['latitude', 'longitude', 'lot_size', 'square_footage']]\n",
    "cluster_col_name = 'location_size'\n",
    "centroid_col_names = ['centroid_' + i for i in cluster_vars]"
   ]
  },
  {
   "cell_type": "code",
   "execution_count": 25,
   "metadata": {},
   "outputs": [],
   "source": [
    "#determine what the best k (number of groups) is\n",
    "# optimal_k = cluster.elbow_method(cluster_vars)"
   ]
  },
  {
   "cell_type": "markdown",
   "metadata": {},
   "source": [
    "### Went with a k of 5"
   ]
  },
  {
   "cell_type": "code",
   "execution_count": 26,
   "metadata": {},
   "outputs": [],
   "source": [
    "# Function to obtain:\n",
    "# The train clusters with their observations,\n",
    "# test clusters and their observations\n",
    "# and a df of the number of observations per cluster on train\n",
    "kmeans, train_clusters, test_clusters, cluster_counts = cluster.get_clusters_and_counts(5, ['latitude', 'longitude',\n",
    "                                                                                           'lot_size', 'square_footage'], \n",
    "                                                                                        'location_size', train_scaled, test_scaled)"
   ]
  },
  {
   "cell_type": "code",
   "execution_count": 27,
   "metadata": {},
   "outputs": [],
   "source": [
    "X_train_scaled = train_scaled[[\"latitude\",\"longitude\",\"square_footage\", \"lot_size\", \"full_value\",\"age\", \"lot_size\"]]\n",
    "X_test_scaled = test_scaled[[\"latitude\",\"longitude\", \"square_footage\", \"lot_size\", \"full_value\",\"age\", \"lot_size\"]]"
   ]
  },
  {
   "cell_type": "code",
   "execution_count": 28,
   "metadata": {
    "scrolled": true
   },
   "outputs": [],
   "source": [
    "# Function to obtain:\n",
    "# dataframe of the train clusters with their observations, \n",
    "# test clusters and their observations\n",
    "# and a df of the number of observations per cluster on train. \n",
    "X_train_scaled, train_scaled, X_test_scaled, test_scaled, centroids = cluster.append_clusters_and_centroids(\n",
    "                                X_train_scaled, train_scaled, train_clusters, \n",
    "                                X_test_scaled, test_scaled, test_clusters, \n",
    "                                cluster_col_name, centroid_col_names, kmeans)"
   ]
  },
  {
   "cell_type": "code",
   "execution_count": 29,
   "metadata": {},
   "outputs": [
    {
     "data": {
      "text/html": [
       "<div>\n",
       "<style scoped>\n",
       "    .dataframe tbody tr th:only-of-type {\n",
       "        vertical-align: middle;\n",
       "    }\n",
       "\n",
       "    .dataframe tbody tr th {\n",
       "        vertical-align: top;\n",
       "    }\n",
       "\n",
       "    .dataframe thead th {\n",
       "        text-align: right;\n",
       "    }\n",
       "</style>\n",
       "<table border=\"1\" class=\"dataframe\">\n",
       "  <thead>\n",
       "    <tr style=\"text-align: right;\">\n",
       "      <th></th>\n",
       "      <th>latitude</th>\n",
       "      <th>longitude</th>\n",
       "      <th>square_footage</th>\n",
       "      <th>lot_size</th>\n",
       "      <th>full_value</th>\n",
       "      <th>age</th>\n",
       "      <th>lot_size</th>\n",
       "      <th>location_size</th>\n",
       "      <th>centroid_latitude</th>\n",
       "      <th>centroid_longitude</th>\n",
       "      <th>centroid_lot_size</th>\n",
       "      <th>centroid_square_footage</th>\n",
       "    </tr>\n",
       "  </thead>\n",
       "  <tbody>\n",
       "    <tr>\n",
       "      <td>44758</td>\n",
       "      <td>0.522594</td>\n",
       "      <td>0.520456</td>\n",
       "      <td>0.565886</td>\n",
       "      <td>0.288830</td>\n",
       "      <td>0.381740</td>\n",
       "      <td>0.401042</td>\n",
       "      <td>0.288830</td>\n",
       "      <td>3</td>\n",
       "      <td>0.364735</td>\n",
       "      <td>0.782326</td>\n",
       "      <td>0.316236</td>\n",
       "      <td>0.536854</td>\n",
       "    </tr>\n",
       "    <tr>\n",
       "      <td>76378</td>\n",
       "      <td>0.492830</td>\n",
       "      <td>0.776761</td>\n",
       "      <td>0.351616</td>\n",
       "      <td>0.245636</td>\n",
       "      <td>0.241751</td>\n",
       "      <td>0.312500</td>\n",
       "      <td>0.245636</td>\n",
       "      <td>0</td>\n",
       "      <td>0.466279</td>\n",
       "      <td>0.683158</td>\n",
       "      <td>0.250476</td>\n",
       "      <td>0.222903</td>\n",
       "    </tr>\n",
       "    <tr>\n",
       "      <td>3539</td>\n",
       "      <td>0.460140</td>\n",
       "      <td>0.528157</td>\n",
       "      <td>0.632999</td>\n",
       "      <td>0.111914</td>\n",
       "      <td>0.769668</td>\n",
       "      <td>0.244792</td>\n",
       "      <td>0.111914</td>\n",
       "      <td>3</td>\n",
       "      <td>0.364735</td>\n",
       "      <td>0.782326</td>\n",
       "      <td>0.316236</td>\n",
       "      <td>0.536854</td>\n",
       "    </tr>\n",
       "    <tr>\n",
       "      <td>35048</td>\n",
       "      <td>0.373196</td>\n",
       "      <td>0.809053</td>\n",
       "      <td>0.177703</td>\n",
       "      <td>0.294366</td>\n",
       "      <td>0.163993</td>\n",
       "      <td>0.276042</td>\n",
       "      <td>0.294366</td>\n",
       "      <td>4</td>\n",
       "      <td>0.247263</td>\n",
       "      <td>0.871520</td>\n",
       "      <td>0.249342</td>\n",
       "      <td>0.241904</td>\n",
       "    </tr>\n",
       "    <tr>\n",
       "      <td>31603</td>\n",
       "      <td>0.132273</td>\n",
       "      <td>0.931276</td>\n",
       "      <td>0.266444</td>\n",
       "      <td>0.353493</td>\n",
       "      <td>0.303035</td>\n",
       "      <td>0.156250</td>\n",
       "      <td>0.353493</td>\n",
       "      <td>4</td>\n",
       "      <td>0.247263</td>\n",
       "      <td>0.871520</td>\n",
       "      <td>0.249342</td>\n",
       "      <td>0.241904</td>\n",
       "    </tr>\n",
       "  </tbody>\n",
       "</table>\n",
       "</div>"
      ],
      "text/plain": [
       "       latitude  longitude  square_footage  lot_size  full_value       age  \\\n",
       "44758  0.522594   0.520456        0.565886  0.288830    0.381740  0.401042   \n",
       "76378  0.492830   0.776761        0.351616  0.245636    0.241751  0.312500   \n",
       "3539   0.460140   0.528157        0.632999  0.111914    0.769668  0.244792   \n",
       "35048  0.373196   0.809053        0.177703  0.294366    0.163993  0.276042   \n",
       "31603  0.132273   0.931276        0.266444  0.353493    0.303035  0.156250   \n",
       "\n",
       "       lot_size  location_size  centroid_latitude  centroid_longitude  \\\n",
       "44758  0.288830              3           0.364735            0.782326   \n",
       "76378  0.245636              0           0.466279            0.683158   \n",
       "3539   0.111914              3           0.364735            0.782326   \n",
       "35048  0.294366              4           0.247263            0.871520   \n",
       "31603  0.353493              4           0.247263            0.871520   \n",
       "\n",
       "       centroid_lot_size  centroid_square_footage  \n",
       "44758           0.316236                 0.536854  \n",
       "76378           0.250476                 0.222903  \n",
       "3539            0.316236                 0.536854  \n",
       "35048           0.249342                 0.241904  \n",
       "31603           0.249342                 0.241904  "
      ]
     },
     "execution_count": 29,
     "metadata": {},
     "output_type": "execute_result"
    }
   ],
   "source": [
    "X_train_scaled.head()"
   ]
  },
  {
   "cell_type": "markdown",
   "metadata": {},
   "source": [
    "### Second Cluster groups according to one home feature, the age of the home and one value feature\n",
    "> - #### Lot_size\n",
    "> - #### Age\n",
    "> - #### full_value"
   ]
  },
  {
   "cell_type": "code",
   "execution_count": 30,
   "metadata": {},
   "outputs": [],
   "source": [
    "# Define variables\n",
    "cluster_vars = train_scaled[['lot_size', 'age', 'full_value']]\n",
    "cluster_col_name = 'size_age_value'\n",
    "centroid_col_names = ['centroid_' + i for i in cluster_vars]"
   ]
  },
  {
   "cell_type": "code",
   "execution_count": 31,
   "metadata": {},
   "outputs": [],
   "source": [
    "#determine what the best k (number of groups) is\n",
    "# optimal_k = cluster.elbow_method(cluster_vars)"
   ]
  },
  {
   "cell_type": "markdown",
   "metadata": {},
   "source": [
    "### Again we went with a k of 5"
   ]
  },
  {
   "cell_type": "code",
   "execution_count": 32,
   "metadata": {},
   "outputs": [],
   "source": [
    "# Function to obtain:\n",
    "# The train clusters with their observations,\n",
    "# test clusters and their observations\n",
    "# and a df of the number of observations per cluster on train\n",
    "kmeans, train_clusters, test_clusters, cluster_counts = cluster.get_clusters_and_counts(5, ['age',\n",
    "                                                                                           'lot_size', 'full_value'], \n",
    "                                                                                        'size_age_value', train_scaled, test_scaled)"
   ]
  },
  {
   "cell_type": "code",
   "execution_count": 33,
   "metadata": {},
   "outputs": [],
   "source": [
    "# Function to obtain:\n",
    "# dataframe of the train clusters with their observations, \n",
    "# test clusters and their observations\n",
    "# and a df of the number of observations per cluster on train. \n",
    "X_train_scaled, train_scaled, X_test_scaled, test_scaled, centroids = cluster.append_clusters_and_centroids(\n",
    "                                X_train_scaled, train_scaled, train_clusters, \n",
    "                                X_test_scaled, test_scaled, test_clusters, \n",
    "                                cluster_col_name, centroid_col_names, kmeans)"
   ]
  },
  {
   "cell_type": "code",
   "execution_count": 34,
   "metadata": {},
   "outputs": [
    {
     "data": {
      "text/html": [
       "<div>\n",
       "<style scoped>\n",
       "    .dataframe tbody tr th:only-of-type {\n",
       "        vertical-align: middle;\n",
       "    }\n",
       "\n",
       "    .dataframe tbody tr th {\n",
       "        vertical-align: top;\n",
       "    }\n",
       "\n",
       "    .dataframe thead th {\n",
       "        text-align: right;\n",
       "    }\n",
       "</style>\n",
       "<table border=\"1\" class=\"dataframe\">\n",
       "  <thead>\n",
       "    <tr style=\"text-align: right;\">\n",
       "      <th></th>\n",
       "      <th>latitude</th>\n",
       "      <th>longitude</th>\n",
       "      <th>square_footage</th>\n",
       "      <th>lot_size</th>\n",
       "      <th>full_value</th>\n",
       "      <th>age</th>\n",
       "      <th>lot_size</th>\n",
       "      <th>location_size</th>\n",
       "      <th>centroid_latitude</th>\n",
       "      <th>centroid_longitude</th>\n",
       "      <th>centroid_lot_size_x</th>\n",
       "      <th>centroid_square_footage</th>\n",
       "      <th>size_age_value</th>\n",
       "      <th>centroid_lot_size_y</th>\n",
       "      <th>centroid_age</th>\n",
       "      <th>centroid_full_value</th>\n",
       "    </tr>\n",
       "  </thead>\n",
       "  <tbody>\n",
       "    <tr>\n",
       "      <td>44758</td>\n",
       "      <td>0.522594</td>\n",
       "      <td>0.520456</td>\n",
       "      <td>0.565886</td>\n",
       "      <td>0.288830</td>\n",
       "      <td>0.381740</td>\n",
       "      <td>0.401042</td>\n",
       "      <td>0.288830</td>\n",
       "      <td>3</td>\n",
       "      <td>0.364735</td>\n",
       "      <td>0.782326</td>\n",
       "      <td>0.316236</td>\n",
       "      <td>0.536854</td>\n",
       "      <td>3</td>\n",
       "      <td>0.347421</td>\n",
       "      <td>0.283276</td>\n",
       "      <td>0.307623</td>\n",
       "    </tr>\n",
       "    <tr>\n",
       "      <td>76378</td>\n",
       "      <td>0.492830</td>\n",
       "      <td>0.776761</td>\n",
       "      <td>0.351616</td>\n",
       "      <td>0.245636</td>\n",
       "      <td>0.241751</td>\n",
       "      <td>0.312500</td>\n",
       "      <td>0.245636</td>\n",
       "      <td>0</td>\n",
       "      <td>0.466279</td>\n",
       "      <td>0.683158</td>\n",
       "      <td>0.250476</td>\n",
       "      <td>0.222903</td>\n",
       "      <td>3</td>\n",
       "      <td>0.347421</td>\n",
       "      <td>0.283276</td>\n",
       "      <td>0.307623</td>\n",
       "    </tr>\n",
       "    <tr>\n",
       "      <td>3539</td>\n",
       "      <td>0.460140</td>\n",
       "      <td>0.528157</td>\n",
       "      <td>0.632999</td>\n",
       "      <td>0.111914</td>\n",
       "      <td>0.769668</td>\n",
       "      <td>0.244792</td>\n",
       "      <td>0.111914</td>\n",
       "      <td>3</td>\n",
       "      <td>0.364735</td>\n",
       "      <td>0.782326</td>\n",
       "      <td>0.316236</td>\n",
       "      <td>0.536854</td>\n",
       "      <td>2</td>\n",
       "      <td>0.199938</td>\n",
       "      <td>0.309452</td>\n",
       "      <td>0.590778</td>\n",
       "    </tr>\n",
       "    <tr>\n",
       "      <td>35048</td>\n",
       "      <td>0.373196</td>\n",
       "      <td>0.809053</td>\n",
       "      <td>0.177703</td>\n",
       "      <td>0.294366</td>\n",
       "      <td>0.163993</td>\n",
       "      <td>0.276042</td>\n",
       "      <td>0.294366</td>\n",
       "      <td>4</td>\n",
       "      <td>0.247263</td>\n",
       "      <td>0.871520</td>\n",
       "      <td>0.249342</td>\n",
       "      <td>0.241904</td>\n",
       "      <td>0</td>\n",
       "      <td>0.337996</td>\n",
       "      <td>0.267801</td>\n",
       "      <td>0.100313</td>\n",
       "    </tr>\n",
       "    <tr>\n",
       "      <td>31603</td>\n",
       "      <td>0.132273</td>\n",
       "      <td>0.931276</td>\n",
       "      <td>0.266444</td>\n",
       "      <td>0.353493</td>\n",
       "      <td>0.303035</td>\n",
       "      <td>0.156250</td>\n",
       "      <td>0.353493</td>\n",
       "      <td>4</td>\n",
       "      <td>0.247263</td>\n",
       "      <td>0.871520</td>\n",
       "      <td>0.249342</td>\n",
       "      <td>0.241904</td>\n",
       "      <td>4</td>\n",
       "      <td>0.143014</td>\n",
       "      <td>0.246705</td>\n",
       "      <td>0.235960</td>\n",
       "    </tr>\n",
       "  </tbody>\n",
       "</table>\n",
       "</div>"
      ],
      "text/plain": [
       "       latitude  longitude  square_footage  lot_size  full_value       age  \\\n",
       "44758  0.522594   0.520456        0.565886  0.288830    0.381740  0.401042   \n",
       "76378  0.492830   0.776761        0.351616  0.245636    0.241751  0.312500   \n",
       "3539   0.460140   0.528157        0.632999  0.111914    0.769668  0.244792   \n",
       "35048  0.373196   0.809053        0.177703  0.294366    0.163993  0.276042   \n",
       "31603  0.132273   0.931276        0.266444  0.353493    0.303035  0.156250   \n",
       "\n",
       "       lot_size  location_size  centroid_latitude  centroid_longitude  \\\n",
       "44758  0.288830              3           0.364735            0.782326   \n",
       "76378  0.245636              0           0.466279            0.683158   \n",
       "3539   0.111914              3           0.364735            0.782326   \n",
       "35048  0.294366              4           0.247263            0.871520   \n",
       "31603  0.353493              4           0.247263            0.871520   \n",
       "\n",
       "       centroid_lot_size_x  centroid_square_footage  size_age_value  \\\n",
       "44758             0.316236                 0.536854               3   \n",
       "76378             0.250476                 0.222903               3   \n",
       "3539              0.316236                 0.536854               2   \n",
       "35048             0.249342                 0.241904               0   \n",
       "31603             0.249342                 0.241904               4   \n",
       "\n",
       "       centroid_lot_size_y  centroid_age  centroid_full_value  \n",
       "44758             0.347421      0.283276             0.307623  \n",
       "76378             0.347421      0.283276             0.307623  \n",
       "3539              0.199938      0.309452             0.590778  \n",
       "35048             0.337996      0.267801             0.100313  \n",
       "31603             0.143014      0.246705             0.235960  "
      ]
     },
     "execution_count": 34,
     "metadata": {},
     "output_type": "execute_result"
    }
   ],
   "source": [
    "X_train_scaled.head()"
   ]
  },
  {
   "cell_type": "markdown",
   "metadata": {},
   "source": [
    "### Cluster Evaluation"
   ]
  },
  {
   "cell_type": "code",
   "execution_count": 35,
   "metadata": {},
   "outputs": [
    {
     "data": {
      "text/html": [
       "<div>\n",
       "<style scoped>\n",
       "    .dataframe tbody tr th:only-of-type {\n",
       "        vertical-align: middle;\n",
       "    }\n",
       "\n",
       "    .dataframe tbody tr th {\n",
       "        vertical-align: top;\n",
       "    }\n",
       "\n",
       "    .dataframe thead th {\n",
       "        text-align: right;\n",
       "    }\n",
       "</style>\n",
       "<table border=\"1\" class=\"dataframe\">\n",
       "  <thead>\n",
       "    <tr style=\"text-align: right;\">\n",
       "      <th></th>\n",
       "      <th>ttest</th>\n",
       "      <th>pval</th>\n",
       "      <th>stat_sig</th>\n",
       "    </tr>\n",
       "  </thead>\n",
       "  <tbody>\n",
       "    <tr>\n",
       "      <td>0</td>\n",
       "      <td>4.683325</td>\n",
       "      <td>0.000003</td>\n",
       "      <td>True</td>\n",
       "    </tr>\n",
       "    <tr>\n",
       "      <td>1</td>\n",
       "      <td>-2.874978</td>\n",
       "      <td>0.004046</td>\n",
       "      <td>True</td>\n",
       "    </tr>\n",
       "    <tr>\n",
       "      <td>2</td>\n",
       "      <td>-0.035291</td>\n",
       "      <td>0.971849</td>\n",
       "      <td>False</td>\n",
       "    </tr>\n",
       "    <tr>\n",
       "      <td>3</td>\n",
       "      <td>1.093000</td>\n",
       "      <td>0.274474</td>\n",
       "      <td>False</td>\n",
       "    </tr>\n",
       "    <tr>\n",
       "      <td>4</td>\n",
       "      <td>-1.940458</td>\n",
       "      <td>0.052353</td>\n",
       "      <td>False</td>\n",
       "    </tr>\n",
       "  </tbody>\n",
       "</table>\n",
       "</div>"
      ],
      "text/plain": [
       "      ttest      pval  stat_sig\n",
       "0  4.683325  0.000003      True\n",
       "1 -2.874978  0.004046      True\n",
       "2 -0.035291  0.971849     False\n",
       "3  1.093000  0.274474     False\n",
       "4 -1.940458  0.052353     False"
      ]
     },
     "execution_count": 35,
     "metadata": {},
     "output_type": "execute_result"
    }
   ],
   "source": [
    "cluster.test_sig(X_train_scaled.location_size, train_scaled)"
   ]
  },
  {
   "cell_type": "code",
   "execution_count": 36,
   "metadata": {},
   "outputs": [
    {
     "data": {
      "text/html": [
       "<div>\n",
       "<style scoped>\n",
       "    .dataframe tbody tr th:only-of-type {\n",
       "        vertical-align: middle;\n",
       "    }\n",
       "\n",
       "    .dataframe tbody tr th {\n",
       "        vertical-align: top;\n",
       "    }\n",
       "\n",
       "    .dataframe thead th {\n",
       "        text-align: right;\n",
       "    }\n",
       "</style>\n",
       "<table border=\"1\" class=\"dataframe\">\n",
       "  <thead>\n",
       "    <tr style=\"text-align: right;\">\n",
       "      <th></th>\n",
       "      <th>ttest</th>\n",
       "      <th>pval</th>\n",
       "      <th>stat_sig</th>\n",
       "    </tr>\n",
       "  </thead>\n",
       "  <tbody>\n",
       "    <tr>\n",
       "      <td>0</td>\n",
       "      <td>-3.906421</td>\n",
       "      <td>0.000094</td>\n",
       "      <td>True</td>\n",
       "    </tr>\n",
       "    <tr>\n",
       "      <td>1</td>\n",
       "      <td>1.353809</td>\n",
       "      <td>0.175863</td>\n",
       "      <td>False</td>\n",
       "    </tr>\n",
       "    <tr>\n",
       "      <td>2</td>\n",
       "      <td>3.854673</td>\n",
       "      <td>0.000116</td>\n",
       "      <td>True</td>\n",
       "    </tr>\n",
       "    <tr>\n",
       "      <td>3</td>\n",
       "      <td>-3.700716</td>\n",
       "      <td>0.000216</td>\n",
       "      <td>True</td>\n",
       "    </tr>\n",
       "    <tr>\n",
       "      <td>4</td>\n",
       "      <td>1.478603</td>\n",
       "      <td>0.139340</td>\n",
       "      <td>False</td>\n",
       "    </tr>\n",
       "  </tbody>\n",
       "</table>\n",
       "</div>"
      ],
      "text/plain": [
       "      ttest      pval  stat_sig\n",
       "0 -3.906421  0.000094      True\n",
       "1  1.353809  0.175863     False\n",
       "2  3.854673  0.000116      True\n",
       "3 -3.700716  0.000216      True\n",
       "4  1.478603  0.139340     False"
      ]
     },
     "execution_count": 36,
     "metadata": {},
     "output_type": "execute_result"
    }
   ],
   "source": [
    "cluster.test_sig(X_train_scaled.size_age_value, train_scaled)"
   ]
  },
  {
   "cell_type": "markdown",
   "metadata": {},
   "source": [
    "<a id='cluster_data'></a>"
   ]
  },
  {
   "cell_type": "markdown",
   "metadata": {},
   "source": [
    "# Modeling"
   ]
  },
  {
   "cell_type": "code",
   "execution_count": 37,
   "metadata": {},
   "outputs": [],
   "source": [
    "X_train = train_scaled[['lot_size','age','full_value','longitude','latitude','square_footage']]\n",
    "y_train = train_scaled[['logerror']]\n",
    "\n",
    "X_test = test_scaled[['lot_size','age','full_value','longitude','latitude','square_footage']]\n",
    "y_test = test_scaled[['logerror']]"
   ]
  },
  {
   "cell_type": "code",
   "execution_count": 38,
   "metadata": {},
   "outputs": [
    {
     "data": {
      "text/html": [
       "<div>\n",
       "<style scoped>\n",
       "    .dataframe tbody tr th:only-of-type {\n",
       "        vertical-align: middle;\n",
       "    }\n",
       "\n",
       "    .dataframe tbody tr th {\n",
       "        vertical-align: top;\n",
       "    }\n",
       "\n",
       "    .dataframe thead th {\n",
       "        text-align: right;\n",
       "    }\n",
       "</style>\n",
       "<table border=\"1\" class=\"dataframe\">\n",
       "  <thead>\n",
       "    <tr style=\"text-align: right;\">\n",
       "      <th></th>\n",
       "      <th>actual</th>\n",
       "    </tr>\n",
       "  </thead>\n",
       "  <tbody>\n",
       "    <tr>\n",
       "      <td>44758</td>\n",
       "      <td>0.824503</td>\n",
       "    </tr>\n",
       "    <tr>\n",
       "      <td>76378</td>\n",
       "      <td>0.574090</td>\n",
       "    </tr>\n",
       "    <tr>\n",
       "      <td>3539</td>\n",
       "      <td>0.590715</td>\n",
       "    </tr>\n",
       "    <tr>\n",
       "      <td>35048</td>\n",
       "      <td>0.587234</td>\n",
       "    </tr>\n",
       "    <tr>\n",
       "      <td>31603</td>\n",
       "      <td>0.590348</td>\n",
       "    </tr>\n",
       "  </tbody>\n",
       "</table>\n",
       "</div>"
      ],
      "text/plain": [
       "         actual\n",
       "44758  0.824503\n",
       "76378  0.574090\n",
       "3539   0.590715\n",
       "35048  0.587234\n",
       "31603  0.590348"
      ]
     },
     "execution_count": 38,
     "metadata": {},
     "output_type": "execute_result"
    }
   ],
   "source": [
    "predictions = y_train[['logerror']]\n",
    "predictions = predictions.rename(columns={'logerror': 'actual'})\n",
    "predictions.head()"
   ]
  },
  {
   "cell_type": "code",
   "execution_count": 39,
   "metadata": {},
   "outputs": [
    {
     "name": "stdout",
     "output_type": "stream",
     "text": [
      "This is the baseline dataset model performance\n",
      "RSME = 0.0216\n",
      "R2 score =  0.0000\n"
     ]
    }
   ],
   "source": [
    "# create baseline\n",
    "X_train = train_scaled[['lot_size','age','full_value','longitude','latitude','square_footage']]\n",
    "y_train = train_scaled[['logerror']]\n",
    "\n",
    "y_train['mean_logerror'] = y_train.logerror.mean()\n",
    "rmse_baseline = np.sqrt(mean_squared_error(y_train.logerror, y_train.mean_logerror))\n",
    "r2_baseline = r2_score(y_train.logerror, y_train.mean_logerror)\n",
    "\n",
    "predictions['rsme_baseline'] = ('{:.4f}'.format(rmse_baseline))\n",
    "print('This is the baseline dataset model performance')\n",
    "print(f'RSME = {rmse_baseline:.4f}')\n",
    "print(f'R2 score =  {r2_baseline:.4f}')"
   ]
  },
  {
   "cell_type": "code",
   "execution_count": 41,
   "metadata": {},
   "outputs": [
    {
     "ename": "NameError",
     "evalue": "name 'y_train_predicted' is not defined",
     "output_type": "error",
     "traceback": [
      "\u001b[0;31m---------------------------------------------------------------------------\u001b[0m",
      "\u001b[0;31mNameError\u001b[0m                                 Traceback (most recent call last)",
      "\u001b[0;32m<ipython-input-41-c6f9855263af>\u001b[0m in \u001b[0;36m<module>\u001b[0;34m\u001b[0m\n\u001b[1;32m      8\u001b[0m \u001b[0;34m\u001b[0m\u001b[0m\n\u001b[1;32m      9\u001b[0m \u001b[0mrmse_dt_train\u001b[0m \u001b[0;34m=\u001b[0m \u001b[0mnp\u001b[0m\u001b[0;34m.\u001b[0m\u001b[0msqrt\u001b[0m\u001b[0;34m(\u001b[0m\u001b[0mmean_squared_error\u001b[0m\u001b[0;34m(\u001b[0m\u001b[0my_train\u001b[0m\u001b[0;34m,\u001b[0m \u001b[0my_pred\u001b[0m\u001b[0;34m)\u001b[0m\u001b[0;34m)\u001b[0m\u001b[0;34m\u001b[0m\u001b[0;34m\u001b[0m\u001b[0m\n\u001b[0;32m---> 10\u001b[0;31m \u001b[0mr2_dt_train\u001b[0m \u001b[0;34m=\u001b[0m \u001b[0mr2_score\u001b[0m\u001b[0;34m(\u001b[0m\u001b[0my_train\u001b[0m\u001b[0;34m,\u001b[0m \u001b[0my_train_predicted\u001b[0m\u001b[0;34m)\u001b[0m\u001b[0;34m\u001b[0m\u001b[0;34m\u001b[0m\u001b[0m\n\u001b[0m\u001b[1;32m     11\u001b[0m \u001b[0;34m\u001b[0m\u001b[0m\n\u001b[1;32m     12\u001b[0m \u001b[0mpredictions\u001b[0m\u001b[0;34m[\u001b[0m\u001b[0;34m'rsme_dt'\u001b[0m\u001b[0;34m]\u001b[0m \u001b[0;34m=\u001b[0m \u001b[0;34m(\u001b[0m\u001b[0;34m'{:.4f}'\u001b[0m\u001b[0;34m.\u001b[0m\u001b[0mformat\u001b[0m\u001b[0;34m(\u001b[0m\u001b[0mrmse_dt_train\u001b[0m\u001b[0;34m)\u001b[0m\u001b[0;34m)\u001b[0m\u001b[0;34m\u001b[0m\u001b[0;34m\u001b[0m\u001b[0m\n",
      "\u001b[0;31mNameError\u001b[0m: name 'y_train_predicted' is not defined"
     ]
    }
   ],
   "source": [
    "# create decision tree regressor\n",
    "X_train = train_scaled[['lot_size','age','full_value','longitude','latitude','square_footage']]\n",
    "y_train = train_scaled[['logerror']]\n",
    "\n",
    "regressor = DecisionTreeRegressor(max_depth = 8, random_state=121)\n",
    "regressor.fit(X_train, y_train)\n",
    "y_pred = regressor.predict(X_train)\n",
    "\n",
    "rmse_dt_train = np.sqrt(mean_squared_error(y_train, y_pred))\n",
    "r2_dt_train = r2_score(y_train, y_train_predicted)\n",
    "\n",
    "predictions['rsme_dt'] = ('{:.4f}'.format(rmse_dt_train))\n",
    "print('This is the train dataset model performance')\n",
    "print(f'RSME = {rmse_dt_train:.4f}')\n",
    "print(f'R2 score =  {r2_dt_train:.4f}')"
   ]
  },
  {
   "cell_type": "code",
   "execution_count": 42,
   "metadata": {},
   "outputs": [
    {
     "name": "stdout",
     "output_type": "stream",
     "text": [
      "This is the train dataset model performance\n",
      "RSME = 0.0216\n",
      "R2 score =  0.0056\n"
     ]
    }
   ],
   "source": [
    "# create random forest regressor\n",
    "X_train = train_scaled[['lot_size','age','full_value','longitude','latitude','square_footage']]\n",
    "y_train = train_scaled[['logerror']]\n",
    "\n",
    "regressor = RandomForestRegressor(max_depth = 2, random_state=121, n_estimators=100)\n",
    "regressor.fit(X_train, y_train)\n",
    "y_pred = regressor.predict(X_train)\n",
    "\n",
    "rmse_rf_train = np.sqrt(mean_squared_error(y_train, y_pred))\n",
    "r2_rf_train = r2_score(y_train, y_pred)\n",
    "\n",
    "predictions['rsme_rf'] = ('{:.4f}'.format(rmse_rf_train))\n",
    "print('This is the train dataset model performance')\n",
    "print(f'RSME = {rmse_rf_train:.4f}')\n",
    "print(f'R2 score =  {r2_rf_train:.4f}')"
   ]
  },
  {
   "cell_type": "markdown",
   "metadata": {},
   "source": [
    "<a id='model_data'></a>"
   ]
  },
  {
   "cell_type": "markdown",
   "metadata": {},
   "source": [
    "# Conclusions"
   ]
  },
  {
   "cell_type": "markdown",
   "metadata": {},
   "source": [
    "<a id='conclusions'></a>"
   ]
  }
 ],
 "metadata": {
  "kernelspec": {
   "display_name": "Python 3",
   "language": "python",
   "name": "python3"
  },
  "language_info": {
   "codemirror_mode": {
    "name": "ipython",
    "version": 3
   },
   "file_extension": ".py",
   "mimetype": "text/x-python",
   "name": "python",
   "nbconvert_exporter": "python",
   "pygments_lexer": "ipython3",
   "version": "3.7.4"
  }
 },
 "nbformat": 4,
 "nbformat_minor": 2
}
