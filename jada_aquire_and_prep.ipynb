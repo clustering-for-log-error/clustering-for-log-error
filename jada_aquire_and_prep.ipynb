{
 "cells": [
  {
   "cell_type": "code",
   "execution_count": 1,
   "metadata": {},
   "outputs": [],
   "source": [
    "import numpy as np\n",
    "import pandas as pd\n",
    "import matplotlib.pyplot as plt\n",
    "import seaborn as sns\n",
    "from sklearn.cluster import KMeans\n",
    "from sklearn.preprocessing import MinMaxScaler\n",
    "from sklearn.model_selection import train_test_split \n",
    "from env import host, user, password\n",
    "import acquire\n",
    "import wrangle"
   ]
  },
  {
   "cell_type": "code",
   "execution_count": 2,
   "metadata": {},
   "outputs": [],
   "source": [
    "df = acquire.get_zillow_data()"
   ]
  },
  {
   "cell_type": "code",
   "execution_count": 3,
   "metadata": {},
   "outputs": [],
   "source": [
    "df = wrangle.handle_nulls(df)"
   ]
  },
  {
   "cell_type": "code",
   "execution_count": 4,
   "metadata": {},
   "outputs": [
    {
     "data": {
      "text/plain": [
       "parcelid                        0\n",
       "bathroomcnt                     0\n",
       "bedroomcnt                      0\n",
       "buildingqualitytypeid           0\n",
       "calculatedfinishedsquarefeet    0\n",
       "finishedsquarefeet12            0\n",
       "fips                            0\n",
       "fullbathcnt                     0\n",
       "latitude                        0\n",
       "longitude                       0\n",
       "lotsizesquarefeet               0\n",
       "propertycountylandusecode       0\n",
       "rawcensustractandblock          0\n",
       "regionidcity                    0\n",
       "regionidcounty                  0\n",
       "regionidzip                     0\n",
       "roomcnt                         0\n",
       "unitcnt                         0\n",
       "yearbuilt                       0\n",
       "structuretaxvaluedollarcnt      0\n",
       "taxvaluedollarcnt               0\n",
       "assessmentyear                  0\n",
       "landtaxvaluedollarcnt           0\n",
       "taxamount                       0\n",
       "logerror                        0\n",
       "heatingorsystemdesc             0\n",
       "propertylandusedesc             0\n",
       "dtype: int64"
      ]
     },
     "execution_count": 4,
     "metadata": {},
     "output_type": "execute_result"
    }
   ],
   "source": [
    "df.isnull().sum()"
   ]
  },
  {
   "cell_type": "code",
   "execution_count": 5,
   "metadata": {},
   "outputs": [],
   "source": [
    "df = wrangle.prepare_zillow(df)"
   ]
  },
  {
   "cell_type": "code",
   "execution_count": 6,
   "metadata": {},
   "outputs": [
    {
     "name": "stdout",
     "output_type": "stream",
     "text": [
      "<class 'pandas.core.frame.DataFrame'>\n",
      "Int64Index: 75206 entries, 0 to 76724\n",
      "Data columns (total 30 columns):\n",
      "parcelid                        75206 non-null int64\n",
      "bathroomcnt                     75206 non-null float64\n",
      "bedroomcnt                      75206 non-null float64\n",
      "buildingqualitytypeid           75206 non-null float64\n",
      "calculatedfinishedsquarefeet    75206 non-null float64\n",
      "finishedsquarefeet12            75206 non-null float64\n",
      "fullbathcnt                     75206 non-null float64\n",
      "latitude                        75206 non-null float64\n",
      "longitude                       75206 non-null float64\n",
      "lotsizesquarefeet               75206 non-null float64\n",
      "propertycountylandusecode       75206 non-null object\n",
      "rawcensustractandblock          75206 non-null float64\n",
      "regionidcity                    75206 non-null float64\n",
      "regionidcounty                  75206 non-null float64\n",
      "regionidzip                     75206 non-null float64\n",
      "roomcnt                         75206 non-null float64\n",
      "unitcnt                         75206 non-null float64\n",
      "yearbuilt                       75206 non-null float64\n",
      "structuretaxvaluedollarcnt      75206 non-null float64\n",
      "taxvaluedollarcnt               75206 non-null float64\n",
      "assessmentyear                  75206 non-null float64\n",
      "landtaxvaluedollarcnt           75206 non-null float64\n",
      "taxamount                       75206 non-null float64\n",
      "logerror                        75206 non-null float64\n",
      "heatingorsystemdesc             75206 non-null object\n",
      "propertylandusedesc             75206 non-null object\n",
      "Los_Angeles                     75206 non-null uint8\n",
      "Orange                          75206 non-null uint8\n",
      "Ventura                         75206 non-null uint8\n",
      "age                             75206 non-null float64\n",
      "dtypes: float64(23), int64(1), object(3), uint8(3)\n",
      "memory usage: 16.3+ MB\n"
     ]
    }
   ],
   "source": [
    "df.info()"
   ]
  },
  {
   "cell_type": "code",
   "execution_count": 7,
   "metadata": {},
   "outputs": [],
   "source": [
    "df.to_csv('zillow_df.csv')"
   ]
  },
  {
   "cell_type": "code",
   "execution_count": 8,
   "metadata": {},
   "outputs": [],
   "source": [
    "df = pd.read_csv('zillow_df.csv')  "
   ]
  },
  {
   "cell_type": "code",
   "execution_count": 13,
   "metadata": {},
   "outputs": [
    {
     "data": {
      "text/plain": [
       "['Unnamed: 0',\n",
       " 'parcelid',\n",
       " 'bathroomcnt',\n",
       " 'bedroomcnt',\n",
       " 'buildingqualitytypeid',\n",
       " 'calculatedfinishedsquarefeet',\n",
       " 'finishedsquarefeet12',\n",
       " 'fullbathcnt',\n",
       " 'latitude',\n",
       " 'longitude',\n",
       " 'lotsizesquarefeet',\n",
       " 'propertycountylandusecode',\n",
       " 'rawcensustractandblock',\n",
       " 'regionidcity',\n",
       " 'regionidcounty',\n",
       " 'regionidzip',\n",
       " 'roomcnt',\n",
       " 'unitcnt',\n",
       " 'yearbuilt',\n",
       " 'structuretaxvaluedollarcnt',\n",
       " 'taxvaluedollarcnt',\n",
       " 'assessmentyear',\n",
       " 'landtaxvaluedollarcnt',\n",
       " 'taxamount',\n",
       " 'logerror',\n",
       " 'heatingorsystemdesc',\n",
       " 'propertylandusedesc',\n",
       " 'Los_Angeles',\n",
       " 'Orange',\n",
       " 'Ventura',\n",
       " 'age']"
      ]
     },
     "execution_count": 13,
     "metadata": {},
     "output_type": "execute_result"
    }
   ],
   "source": [
    "df.columns.to_list()"
   ]
  },
  {
   "cell_type": "code",
   "execution_count": null,
   "metadata": {},
   "outputs": [],
   "source": []
  }
 ],
 "metadata": {
  "kernelspec": {
   "display_name": "Python 3",
   "language": "python",
   "name": "python3"
  },
  "language_info": {
   "codemirror_mode": {
    "name": "ipython",
    "version": 3
   },
   "file_extension": ".py",
   "mimetype": "text/x-python",
   "name": "python",
   "nbconvert_exporter": "python",
   "pygments_lexer": "ipython3",
   "version": "3.7.4"
  }
 },
 "nbformat": 4,
 "nbformat_minor": 2
}
