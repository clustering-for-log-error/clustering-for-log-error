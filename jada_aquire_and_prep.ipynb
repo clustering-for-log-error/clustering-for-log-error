{
 "cells": [
  {
   "cell_type": "code",
   "execution_count": 3,
   "metadata": {},
   "outputs": [],
   "source": [
    "import numpy as np\n",
    "import pandas as pd\n",
    "import matplotlib.pyplot as plt\n",
    "import seaborn as sns\n",
    "from sklearn.cluster import KMeans\n",
    "from sklearn.preprocessing import MinMaxScaler\n",
    "from sklearn.model_selection import train_test_split \n",
    "from env import host, user, password"
   ]
  },
  {
   "cell_type": "code",
   "execution_count": 2,
   "metadata": {},
   "outputs": [],
   "source": [
    "def get_zillow():\n",
    "    query = '''\n",
    "    SELECT \n",
    "    prop.parcelid\n",
    "    , pred.logerror\n",
    "    , pred.transactiondate\n",
    "    , bathroomcnt\n",
    "    , bedroomcnt\n",
    "    , calculatedfinishedsquarefeet\n",
    "    , fips\n",
    "    , latitude\n",
    "    , longitude\n",
    "    , lotsizesquarefeet\n",
    "    , regionidcity\n",
    "    , regionidcounty\n",
    "    , regionidneighborhood\n",
    "    , regionidzip\n",
    "    , yearbuilt\n",
    "    , structuretaxvaluedollarcnt\n",
    "    , taxvaluedollarcnt\n",
    "    , landtaxvaluedollarcnt\n",
    "    , taxamount\n",
    "from properties_2017 prop\n",
    "inner join predictions_2017 pred on prop.parcelid = pred.parcelid\n",
    "where propertylandusetypeid = 261\n",
    "    '''\n",
    "    df = pd.read_sql(query, get_db_url('zillow'))\n",
    "    return df "
   ]
  },
  {
   "cell_type": "code",
   "execution_count": null,
   "metadata": {},
   "outputs": [],
   "source": []
  }
 ],
 "metadata": {
  "kernelspec": {
   "display_name": "Python 3",
   "language": "python",
   "name": "python3"
  },
  "language_info": {
   "codemirror_mode": {
    "name": "ipython",
    "version": 3
   },
   "file_extension": ".py",
   "mimetype": "text/x-python",
   "name": "python",
   "nbconvert_exporter": "python",
   "pygments_lexer": "ipython3",
   "version": "3.7.4"
  }
 },
 "nbformat": 4,
 "nbformat_minor": 2
}
