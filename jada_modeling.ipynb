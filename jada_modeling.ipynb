{
 "cells": [
  {
   "cell_type": "code",
   "execution_count": 1,
   "metadata": {},
   "outputs": [],
   "source": [
    "import numpy as np\n",
    "import pandas as pd\n",
    "import matplotlib.pyplot as plt\n",
    "import seaborn as sns\n",
    "from sklearn.cluster import KMeans\n",
    "from sklearn.preprocessing import MinMaxScaler\n",
    "from sklearn.model_selection import train_test_split \n",
    "from sklearn.metrics import mean_squared_error, explained_variance_score\n",
    "from sklearn.linear_model import LinearRegression\n",
    "from sklearn.feature_selection import RFE\n",
    "\n",
    "\n",
    "\n",
    "from env import host, user, password\n",
    "import acquire\n",
    "import wrangle\n",
    "import prepare\n",
    "import cluster\n",
    "import split_scale\n",
    "\n",
    "\n",
    "import warnings\n",
    "warnings.filterwarnings(\"ignore\")"
   ]
  },
  {
   "cell_type": "code",
   "execution_count": 2,
   "metadata": {},
   "outputs": [],
   "source": [
    "pd.set_option('display.max_columns', None)"
   ]
  },
  {
   "cell_type": "code",
   "execution_count": 3,
   "metadata": {},
   "outputs": [],
   "source": [
    "df = pd.read_csv('zillow_df.csv')"
   ]
  },
  {
   "cell_type": "code",
   "execution_count": 4,
   "metadata": {},
   "outputs": [],
   "source": [
    "df = df.drop(df.columns[0], axis=1)"
   ]
  },
  {
   "cell_type": "code",
   "execution_count": 5,
   "metadata": {},
   "outputs": [
    {
     "name": "stdout",
     "output_type": "stream",
     "text": [
      "<class 'pandas.core.frame.DataFrame'>\n",
      "RangeIndex: 59930 entries, 0 to 59929\n",
      "Data columns (total 17 columns):\n",
      "longitude         59930 non-null float64\n",
      "latitude          59930 non-null float64\n",
      "age               59930 non-null float64\n",
      "month             59930 non-null int64\n",
      "bedroomcnt        59930 non-null float64\n",
      "bathroomcnt       59930 non-null float64\n",
      "square_footage    59930 non-null float64\n",
      "lot_size          59930 non-null float64\n",
      "house_value       59930 non-null float64\n",
      "land_value        59930 non-null float64\n",
      "full_value        59930 non-null float64\n",
      "tax_rate          59930 non-null float64\n",
      "Los_Angeles       59930 non-null int64\n",
      "Orange            59930 non-null int64\n",
      "Ventura           59930 non-null int64\n",
      "logerror          59930 non-null float64\n",
      "bed_bath_ratio    59930 non-null float64\n",
      "dtypes: float64(13), int64(4)\n",
      "memory usage: 7.8 MB\n"
     ]
    }
   ],
   "source": [
    "df.info()"
   ]
  },
  {
   "cell_type": "code",
   "execution_count": 6,
   "metadata": {},
   "outputs": [],
   "source": [
    "# X = df[['longitude', 'latitude', 'age', 'month',\n",
    "#         'square_footage', 'lot_size', 'house_value',\n",
    "#         'land_value', 'full_value', 'tax_rate',\n",
    "#         'Los_Angeles', 'Orange', 'Ventura', 'bed_bath_ratio', 'bathroomcnt', 'logerror']]\n",
    "# y = df[['logerror']]"
   ]
  },
  {
   "cell_type": "code",
   "execution_count": 7,
   "metadata": {},
   "outputs": [
    {
     "data": {
      "text/html": [
       "<div>\n",
       "<style scoped>\n",
       "    .dataframe tbody tr th:only-of-type {\n",
       "        vertical-align: middle;\n",
       "    }\n",
       "\n",
       "    .dataframe tbody tr th {\n",
       "        vertical-align: top;\n",
       "    }\n",
       "\n",
       "    .dataframe thead th {\n",
       "        text-align: right;\n",
       "    }\n",
       "</style>\n",
       "<table border=\"1\" class=\"dataframe\">\n",
       "  <thead>\n",
       "    <tr style=\"text-align: right;\">\n",
       "      <th></th>\n",
       "      <th>longitude</th>\n",
       "      <th>latitude</th>\n",
       "      <th>age</th>\n",
       "      <th>month</th>\n",
       "      <th>bedroomcnt</th>\n",
       "      <th>bathroomcnt</th>\n",
       "      <th>square_footage</th>\n",
       "      <th>lot_size</th>\n",
       "      <th>house_value</th>\n",
       "      <th>land_value</th>\n",
       "      <th>full_value</th>\n",
       "      <th>tax_rate</th>\n",
       "      <th>Los_Angeles</th>\n",
       "      <th>Orange</th>\n",
       "      <th>Ventura</th>\n",
       "      <th>logerror</th>\n",
       "      <th>bed_bath_ratio</th>\n",
       "    </tr>\n",
       "  </thead>\n",
       "  <tbody>\n",
       "    <tr>\n",
       "      <td>0</td>\n",
       "      <td>-117869207.0</td>\n",
       "      <td>33634931.0</td>\n",
       "      <td>19.0</td>\n",
       "      <td>1</td>\n",
       "      <td>4.0</td>\n",
       "      <td>3.5</td>\n",
       "      <td>3100.0</td>\n",
       "      <td>4506.0</td>\n",
       "      <td>485713.0</td>\n",
       "      <td>537569.0</td>\n",
       "      <td>1023282.0</td>\n",
       "      <td>0.010763</td>\n",
       "      <td>0</td>\n",
       "      <td>1</td>\n",
       "      <td>0</td>\n",
       "      <td>0.025595</td>\n",
       "      <td>1.142857</td>\n",
       "    </tr>\n",
       "    <tr>\n",
       "      <td>1</td>\n",
       "      <td>-119281531.0</td>\n",
       "      <td>34449266.0</td>\n",
       "      <td>50.0</td>\n",
       "      <td>1</td>\n",
       "      <td>2.0</td>\n",
       "      <td>1.0</td>\n",
       "      <td>1465.0</td>\n",
       "      <td>12647.0</td>\n",
       "      <td>88000.0</td>\n",
       "      <td>376000.0</td>\n",
       "      <td>464000.0</td>\n",
       "      <td>0.012225</td>\n",
       "      <td>0</td>\n",
       "      <td>0</td>\n",
       "      <td>1</td>\n",
       "      <td>0.055619</td>\n",
       "      <td>2.000000</td>\n",
       "    </tr>\n",
       "    <tr>\n",
       "      <td>2</td>\n",
       "      <td>-117823170.0</td>\n",
       "      <td>33886168.0</td>\n",
       "      <td>55.0</td>\n",
       "      <td>1</td>\n",
       "      <td>3.0</td>\n",
       "      <td>2.0</td>\n",
       "      <td>1243.0</td>\n",
       "      <td>8432.0</td>\n",
       "      <td>85289.0</td>\n",
       "      <td>479489.0</td>\n",
       "      <td>564778.0</td>\n",
       "      <td>0.011488</td>\n",
       "      <td>0</td>\n",
       "      <td>1</td>\n",
       "      <td>0</td>\n",
       "      <td>0.005383</td>\n",
       "      <td>1.500000</td>\n",
       "    </tr>\n",
       "    <tr>\n",
       "      <td>3</td>\n",
       "      <td>-118240722.0</td>\n",
       "      <td>34245180.0</td>\n",
       "      <td>47.0</td>\n",
       "      <td>1</td>\n",
       "      <td>4.0</td>\n",
       "      <td>3.0</td>\n",
       "      <td>2376.0</td>\n",
       "      <td>13038.0</td>\n",
       "      <td>108918.0</td>\n",
       "      <td>36225.0</td>\n",
       "      <td>145143.0</td>\n",
       "      <td>0.012247</td>\n",
       "      <td>1</td>\n",
       "      <td>0</td>\n",
       "      <td>0</td>\n",
       "      <td>-0.103410</td>\n",
       "      <td>1.333333</td>\n",
       "    </tr>\n",
       "    <tr>\n",
       "      <td>4</td>\n",
       "      <td>-118993991.0</td>\n",
       "      <td>34230044.0</td>\n",
       "      <td>35.0</td>\n",
       "      <td>1</td>\n",
       "      <td>3.0</td>\n",
       "      <td>2.0</td>\n",
       "      <td>1492.0</td>\n",
       "      <td>903.0</td>\n",
       "      <td>198640.0</td>\n",
       "      <td>132424.0</td>\n",
       "      <td>331064.0</td>\n",
       "      <td>0.010596</td>\n",
       "      <td>0</td>\n",
       "      <td>0</td>\n",
       "      <td>1</td>\n",
       "      <td>-0.020526</td>\n",
       "      <td>1.500000</td>\n",
       "    </tr>\n",
       "  </tbody>\n",
       "</table>\n",
       "</div>"
      ],
      "text/plain": [
       "     longitude    latitude   age  month  bedroomcnt  bathroomcnt  \\\n",
       "0 -117869207.0  33634931.0  19.0      1         4.0          3.5   \n",
       "1 -119281531.0  34449266.0  50.0      1         2.0          1.0   \n",
       "2 -117823170.0  33886168.0  55.0      1         3.0          2.0   \n",
       "3 -118240722.0  34245180.0  47.0      1         4.0          3.0   \n",
       "4 -118993991.0  34230044.0  35.0      1         3.0          2.0   \n",
       "\n",
       "   square_footage  lot_size  house_value  land_value  full_value  tax_rate  \\\n",
       "0          3100.0    4506.0     485713.0    537569.0   1023282.0  0.010763   \n",
       "1          1465.0   12647.0      88000.0    376000.0    464000.0  0.012225   \n",
       "2          1243.0    8432.0      85289.0    479489.0    564778.0  0.011488   \n",
       "3          2376.0   13038.0     108918.0     36225.0    145143.0  0.012247   \n",
       "4          1492.0     903.0     198640.0    132424.0    331064.0  0.010596   \n",
       "\n",
       "   Los_Angeles  Orange  Ventura  logerror  bed_bath_ratio  \n",
       "0            0       1        0  0.025595        1.142857  \n",
       "1            0       0        1  0.055619        2.000000  \n",
       "2            0       1        0  0.005383        1.500000  \n",
       "3            1       0        0 -0.103410        1.333333  \n",
       "4            0       0        1 -0.020526        1.500000  "
      ]
     },
     "execution_count": 7,
     "metadata": {},
     "output_type": "execute_result"
    }
   ],
   "source": [
    "df.head()"
   ]
  },
  {
   "cell_type": "code",
   "execution_count": null,
   "metadata": {},
   "outputs": [],
   "source": []
  },
  {
   "cell_type": "code",
   "execution_count": 8,
   "metadata": {},
   "outputs": [],
   "source": [
    "# Split the data\n",
    "train, test = split_scale.train_test(df)"
   ]
  },
  {
   "cell_type": "code",
   "execution_count": 9,
   "metadata": {},
   "outputs": [],
   "source": [
    "# Scale the data\n",
    "scaler, train_scaled, test_scaled = split_scale.min_max_scaler(train, test)"
   ]
  },
  {
   "cell_type": "code",
   "execution_count": 10,
   "metadata": {},
   "outputs": [],
   "source": [
    "X_train = train_scaled[['latitude', 'longitude', 'age', 'square_footage', 'lot_size', 'full_value']]\n",
    "y_train = train_scaled[['logerror']]\n",
    "\n",
    "X_test = test_scaled[['latitude', 'longitude', 'age', 'square_footage', 'lot_size', 'full_value']]\n",
    "y_test = test_scaled[['logerror']]"
   ]
  },
  {
   "cell_type": "code",
   "execution_count": 11,
   "metadata": {},
   "outputs": [],
   "source": [
    "# Create linear model\n",
    "lm = LinearRegression()"
   ]
  },
  {
   "cell_type": "code",
   "execution_count": 12,
   "metadata": {},
   "outputs": [],
   "source": [
    "# Use Recursive feature selection to find top 3 features\n",
    "rfe = RFE(lm, 3)\n",
    "\n",
    "X_rfe = rfe.fit_transform(X_train,y_train)   "
   ]
  },
  {
   "cell_type": "code",
   "execution_count": 13,
   "metadata": {},
   "outputs": [],
   "source": [
    "# # Look at top 3 features\n",
    "\n",
    "# mask = rfe.support_\n",
    "\n",
    "# rfe_features = X_train.columns[mask]\n",
    "# rfe_features"
   ]
  },
  {
   "cell_type": "code",
   "execution_count": 14,
   "metadata": {},
   "outputs": [
    {
     "data": {
      "text/html": [
       "<div>\n",
       "<style scoped>\n",
       "    .dataframe tbody tr th:only-of-type {\n",
       "        vertical-align: middle;\n",
       "    }\n",
       "\n",
       "    .dataframe tbody tr th {\n",
       "        vertical-align: top;\n",
       "    }\n",
       "\n",
       "    .dataframe thead th {\n",
       "        text-align: right;\n",
       "    }\n",
       "</style>\n",
       "<table border=\"1\" class=\"dataframe\">\n",
       "  <thead>\n",
       "    <tr style=\"text-align: right;\">\n",
       "      <th></th>\n",
       "      <th>Feature</th>\n",
       "      <th>Rank</th>\n",
       "    </tr>\n",
       "  </thead>\n",
       "  <tbody>\n",
       "    <tr>\n",
       "      <td>0</td>\n",
       "      <td>latitude</td>\n",
       "      <td>1</td>\n",
       "    </tr>\n",
       "    <tr>\n",
       "      <td>3</td>\n",
       "      <td>square_footage</td>\n",
       "      <td>1</td>\n",
       "    </tr>\n",
       "    <tr>\n",
       "      <td>5</td>\n",
       "      <td>full_value</td>\n",
       "      <td>1</td>\n",
       "    </tr>\n",
       "    <tr>\n",
       "      <td>2</td>\n",
       "      <td>age</td>\n",
       "      <td>2</td>\n",
       "    </tr>\n",
       "    <tr>\n",
       "      <td>1</td>\n",
       "      <td>longitude</td>\n",
       "      <td>3</td>\n",
       "    </tr>\n",
       "    <tr>\n",
       "      <td>4</td>\n",
       "      <td>lot_size</td>\n",
       "      <td>4</td>\n",
       "    </tr>\n",
       "  </tbody>\n",
       "</table>\n",
       "</div>"
      ],
      "text/plain": [
       "          Feature  Rank\n",
       "0        latitude     1\n",
       "3  square_footage     1\n",
       "5      full_value     1\n",
       "2             age     2\n",
       "1       longitude     3\n",
       "4        lot_size     4"
      ]
     },
     "execution_count": 14,
     "metadata": {},
     "output_type": "execute_result"
    }
   ],
   "source": [
    "# Create dataframe of top features in ranking order\n",
    "var_ranks = rfe.ranking_\n",
    "var_names = X_train.columns.tolist()\n",
    "\n",
    "pd.DataFrame({'Feature': var_names, 'Rank': var_ranks}).sort_values(by=\"Rank\")"
   ]
  },
  {
   "cell_type": "code",
   "execution_count": 15,
   "metadata": {},
   "outputs": [
    {
     "data": {
      "text/plain": [
       "LinearRegression(copy_X=True, fit_intercept=True, n_jobs=None, normalize=False)"
      ]
     },
     "execution_count": 15,
     "metadata": {},
     "output_type": "execute_result"
    }
   ],
   "source": [
    "# Fitting the data to model\n",
    "lm.fit(X_rfe, y_train)"
   ]
  },
  {
   "cell_type": "code",
   "execution_count": 16,
   "metadata": {},
   "outputs": [
    {
     "data": {
      "text/html": [
       "<div>\n",
       "<style scoped>\n",
       "    .dataframe tbody tr th:only-of-type {\n",
       "        vertical-align: middle;\n",
       "    }\n",
       "\n",
       "    .dataframe tbody tr th {\n",
       "        vertical-align: top;\n",
       "    }\n",
       "\n",
       "    .dataframe thead th {\n",
       "        text-align: right;\n",
       "    }\n",
       "</style>\n",
       "<table border=\"1\" class=\"dataframe\">\n",
       "  <thead>\n",
       "    <tr style=\"text-align: right;\">\n",
       "      <th></th>\n",
       "      <th>logerror</th>\n",
       "      <th>y_hat</th>\n",
       "      <th>linear_model_predictions</th>\n",
       "    </tr>\n",
       "  </thead>\n",
       "  <tbody>\n",
       "    <tr>\n",
       "      <td>34908</td>\n",
       "      <td>0.824503</td>\n",
       "      <td>0.591585</td>\n",
       "      <td>0.592824</td>\n",
       "    </tr>\n",
       "    <tr>\n",
       "      <td>59687</td>\n",
       "      <td>0.574090</td>\n",
       "      <td>0.591585</td>\n",
       "      <td>0.591949</td>\n",
       "    </tr>\n",
       "    <tr>\n",
       "      <td>2770</td>\n",
       "      <td>0.590715</td>\n",
       "      <td>0.591585</td>\n",
       "      <td>0.591723</td>\n",
       "    </tr>\n",
       "    <tr>\n",
       "      <td>27320</td>\n",
       "      <td>0.587234</td>\n",
       "      <td>0.591585</td>\n",
       "      <td>0.591324</td>\n",
       "    </tr>\n",
       "    <tr>\n",
       "      <td>24661</td>\n",
       "      <td>0.590348</td>\n",
       "      <td>0.591585</td>\n",
       "      <td>0.591977</td>\n",
       "    </tr>\n",
       "  </tbody>\n",
       "</table>\n",
       "</div>"
      ],
      "text/plain": [
       "       logerror     y_hat  linear_model_predictions\n",
       "34908  0.824503  0.591585                  0.592824\n",
       "59687  0.574090  0.591585                  0.591949\n",
       "2770   0.590715  0.591585                  0.591723\n",
       "27320  0.587234  0.591585                  0.591324\n",
       "24661  0.590348  0.591585                  0.591977"
      ]
     },
     "execution_count": 16,
     "metadata": {},
     "output_type": "execute_result"
    }
   ],
   "source": [
    "y_train['y_hat'] = y_train.logerror.mean()\n",
    "y_train['linear_model_predictions'] = lm.predict(X_rfe)\n",
    "\n",
    "y_train.head()"
   ]
  },
  {
   "cell_type": "code",
   "execution_count": 17,
   "metadata": {},
   "outputs": [],
   "source": [
    "y_train = y_train.rename(columns={'logerror':'actual_logerror'})"
   ]
  },
  {
   "cell_type": "code",
   "execution_count": 18,
   "metadata": {},
   "outputs": [
    {
     "data": {
      "text/html": [
       "<div>\n",
       "<style scoped>\n",
       "    .dataframe tbody tr th:only-of-type {\n",
       "        vertical-align: middle;\n",
       "    }\n",
       "\n",
       "    .dataframe tbody tr th {\n",
       "        vertical-align: top;\n",
       "    }\n",
       "\n",
       "    .dataframe thead th {\n",
       "        text-align: right;\n",
       "    }\n",
       "</style>\n",
       "<table border=\"1\" class=\"dataframe\">\n",
       "  <thead>\n",
       "    <tr style=\"text-align: right;\">\n",
       "      <th></th>\n",
       "      <th>actual_logerror</th>\n",
       "      <th>y_hat</th>\n",
       "      <th>linear_model_predictions</th>\n",
       "    </tr>\n",
       "  </thead>\n",
       "  <tbody>\n",
       "    <tr>\n",
       "      <td>34908</td>\n",
       "      <td>0.824503</td>\n",
       "      <td>0.591585</td>\n",
       "      <td>0.592824</td>\n",
       "    </tr>\n",
       "    <tr>\n",
       "      <td>59687</td>\n",
       "      <td>0.574090</td>\n",
       "      <td>0.591585</td>\n",
       "      <td>0.591949</td>\n",
       "    </tr>\n",
       "    <tr>\n",
       "      <td>2770</td>\n",
       "      <td>0.590715</td>\n",
       "      <td>0.591585</td>\n",
       "      <td>0.591723</td>\n",
       "    </tr>\n",
       "    <tr>\n",
       "      <td>27320</td>\n",
       "      <td>0.587234</td>\n",
       "      <td>0.591585</td>\n",
       "      <td>0.591324</td>\n",
       "    </tr>\n",
       "    <tr>\n",
       "      <td>24661</td>\n",
       "      <td>0.590348</td>\n",
       "      <td>0.591585</td>\n",
       "      <td>0.591977</td>\n",
       "    </tr>\n",
       "    <tr>\n",
       "      <td>...</td>\n",
       "      <td>...</td>\n",
       "      <td>...</td>\n",
       "      <td>...</td>\n",
       "    </tr>\n",
       "    <tr>\n",
       "      <td>28148</td>\n",
       "      <td>0.591724</td>\n",
       "      <td>0.591585</td>\n",
       "      <td>0.592756</td>\n",
       "    </tr>\n",
       "    <tr>\n",
       "      <td>58975</td>\n",
       "      <td>0.550215</td>\n",
       "      <td>0.591585</td>\n",
       "      <td>0.592276</td>\n",
       "    </tr>\n",
       "    <tr>\n",
       "      <td>56584</td>\n",
       "      <td>0.599864</td>\n",
       "      <td>0.591585</td>\n",
       "      <td>0.590350</td>\n",
       "    </tr>\n",
       "    <tr>\n",
       "      <td>37333</td>\n",
       "      <td>0.586344</td>\n",
       "      <td>0.591585</td>\n",
       "      <td>0.589425</td>\n",
       "    </tr>\n",
       "    <tr>\n",
       "      <td>11586</td>\n",
       "      <td>0.590333</td>\n",
       "      <td>0.591585</td>\n",
       "      <td>0.590384</td>\n",
       "    </tr>\n",
       "  </tbody>\n",
       "</table>\n",
       "<p>41951 rows × 3 columns</p>\n",
       "</div>"
      ],
      "text/plain": [
       "       actual_logerror     y_hat  linear_model_predictions\n",
       "34908         0.824503  0.591585                  0.592824\n",
       "59687         0.574090  0.591585                  0.591949\n",
       "2770          0.590715  0.591585                  0.591723\n",
       "27320         0.587234  0.591585                  0.591324\n",
       "24661         0.590348  0.591585                  0.591977\n",
       "...                ...       ...                       ...\n",
       "28148         0.591724  0.591585                  0.592756\n",
       "58975         0.550215  0.591585                  0.592276\n",
       "56584         0.599864  0.591585                  0.590350\n",
       "37333         0.586344  0.591585                  0.589425\n",
       "11586         0.590333  0.591585                  0.590384\n",
       "\n",
       "[41951 rows x 3 columns]"
      ]
     },
     "execution_count": 18,
     "metadata": {},
     "output_type": "execute_result"
    }
   ],
   "source": [
    "y_train"
   ]
  },
  {
   "cell_type": "code",
   "execution_count": 19,
   "metadata": {},
   "outputs": [
    {
     "data": {
      "text/plain": [
       "0.0"
      ]
     },
     "execution_count": 19,
     "metadata": {},
     "output_type": "execute_result"
    }
   ],
   "source": [
    "# explained variance using baseline\n",
    "from sklearn.metrics import explained_variance_score\n",
    "evs = explained_variance_score(y_train.actual_logerror, y_train.y_hat)\n",
    "evs"
   ]
  },
  {
   "cell_type": "code",
   "execution_count": 20,
   "metadata": {},
   "outputs": [
    {
     "data": {
      "text/plain": [
       "0.0024000625645241858"
      ]
     },
     "execution_count": 20,
     "metadata": {},
     "output_type": "execute_result"
    }
   ],
   "source": [
    "#explained variance using linear_model_predictions\n",
    "evs = explained_variance_score(y_train.actual_logerror, y_train.linear_model_predictions)\n",
    "evs\n",
    "# (f'evs = {evs:.6f}')"
   ]
  },
  {
   "cell_type": "code",
   "execution_count": 21,
   "metadata": {},
   "outputs": [],
   "source": [
    "def model_accuracy(df):\n",
    "    '''\n",
    "    This function takes in all the model predictions and baseline predictions \n",
    "    and returns a dataframe with each model's evs in order\n",
    "    '''\n",
    "    models = df.loc[:, \"y_hat\":\"linear_model_predictions\"].columns.tolist()\n",
    "    models\n",
    "    \n",
    "    output = []\n",
    "    for model in models:\n",
    "        output.append({\n",
    "            \"model\": model,\n",
    "            \"Explained Variance\": (f'{explained_variance_score(y_train.actual_logerror, df[model]):6f}')\n",
    "        })\n",
    "    \n",
    "    \n",
    "    accuracy = pd.DataFrame(output)\n",
    "    accuracy = accuracy.sort_values(by=\"Explained Variance\", ascending=False)\n",
    "    return accuracy"
   ]
  },
  {
   "cell_type": "code",
   "execution_count": 22,
   "metadata": {},
   "outputs": [
    {
     "data": {
      "text/html": [
       "<div>\n",
       "<style scoped>\n",
       "    .dataframe tbody tr th:only-of-type {\n",
       "        vertical-align: middle;\n",
       "    }\n",
       "\n",
       "    .dataframe tbody tr th {\n",
       "        vertical-align: top;\n",
       "    }\n",
       "\n",
       "    .dataframe thead th {\n",
       "        text-align: right;\n",
       "    }\n",
       "</style>\n",
       "<table border=\"1\" class=\"dataframe\">\n",
       "  <thead>\n",
       "    <tr style=\"text-align: right;\">\n",
       "      <th></th>\n",
       "      <th>model</th>\n",
       "      <th>Explained Variance</th>\n",
       "    </tr>\n",
       "  </thead>\n",
       "  <tbody>\n",
       "    <tr>\n",
       "      <td>1</td>\n",
       "      <td>linear_model_predictions</td>\n",
       "      <td>0.002400</td>\n",
       "    </tr>\n",
       "    <tr>\n",
       "      <td>0</td>\n",
       "      <td>y_hat</td>\n",
       "      <td>0.000000</td>\n",
       "    </tr>\n",
       "  </tbody>\n",
       "</table>\n",
       "</div>"
      ],
      "text/plain": [
       "                      model Explained Variance\n",
       "1  linear_model_predictions           0.002400\n",
       "0                     y_hat           0.000000"
      ]
     },
     "execution_count": 22,
     "metadata": {},
     "output_type": "execute_result"
    }
   ],
   "source": [
    "metrics = model_accuracy(y_train)\n",
    "\n",
    "metrics"
   ]
  },
  {
   "cell_type": "code",
   "execution_count": 23,
   "metadata": {},
   "outputs": [
    {
     "name": "stdout",
     "output_type": "stream",
     "text": [
      "<class 'pandas.core.frame.DataFrame'>\n",
      "RangeIndex: 59930 entries, 0 to 59929\n",
      "Data columns (total 17 columns):\n",
      "longitude         59930 non-null float64\n",
      "latitude          59930 non-null float64\n",
      "age               59930 non-null float64\n",
      "month             59930 non-null int64\n",
      "bedroomcnt        59930 non-null float64\n",
      "bathroomcnt       59930 non-null float64\n",
      "square_footage    59930 non-null float64\n",
      "lot_size          59930 non-null float64\n",
      "house_value       59930 non-null float64\n",
      "land_value        59930 non-null float64\n",
      "full_value        59930 non-null float64\n",
      "tax_rate          59930 non-null float64\n",
      "Los_Angeles       59930 non-null int64\n",
      "Orange            59930 non-null int64\n",
      "Ventura           59930 non-null int64\n",
      "logerror          59930 non-null float64\n",
      "bed_bath_ratio    59930 non-null float64\n",
      "dtypes: float64(13), int64(4)\n",
      "memory usage: 7.8 MB\n"
     ]
    }
   ],
   "source": [
    "df.info()"
   ]
  },
  {
   "cell_type": "markdown",
   "metadata": {},
   "source": [
    "Feature/Target Hypothesis\n",
    "- $H_0$: Bedroom is not related to logerror\n",
    "- $H_a$: Bedroom is related to logerror\n",
    "- alpha ($\\alpha$): 1 - confidence level (95% confidence level -> $\\alpha = .05$)"
   ]
  },
  {
   "cell_type": "code",
   "execution_count": 32,
   "metadata": {},
   "outputs": [
    {
     "name": "stdout",
     "output_type": "stream",
     "text": [
      "We reject the null hypothesis\n",
      "We can say that we have confidence that Bedroomcount is related to logerror\n"
     ]
    }
   ],
   "source": [
    "from math import sqrt\n",
    "from scipy import stats\n",
    "\n",
    "x = train_scaled.bedroomcnt\n",
    "y = train_scaled.logerror\n",
    "\n",
    "alternative_hypothesis = 'Bedroomcount is related to logerror'\n",
    "alpha = .05\n",
    "\n",
    "corr, p = stats.pearsonr(x, y)\n",
    "\n",
    "corr, p\n",
    "\n",
    "if p < alpha:\n",
    "    print(\"We reject the null hypothesis\")\n",
    "    print(\"We can say that we have confidence that\", alternative_hypothesis)\n",
    "else:\n",
    "    print(\"We fail to reject the null\")"
   ]
  },
  {
   "cell_type": "code",
   "execution_count": 25,
   "metadata": {},
   "outputs": [
    {
     "data": {
      "text/html": [
       "<div>\n",
       "<style scoped>\n",
       "    .dataframe tbody tr th:only-of-type {\n",
       "        vertical-align: middle;\n",
       "    }\n",
       "\n",
       "    .dataframe tbody tr th {\n",
       "        vertical-align: top;\n",
       "    }\n",
       "\n",
       "    .dataframe thead th {\n",
       "        text-align: right;\n",
       "    }\n",
       "</style>\n",
       "<table border=\"1\" class=\"dataframe\">\n",
       "  <thead>\n",
       "    <tr style=\"text-align: right;\">\n",
       "      <th></th>\n",
       "      <th>longitude</th>\n",
       "      <th>latitude</th>\n",
       "      <th>age</th>\n",
       "      <th>month</th>\n",
       "      <th>bedroomcnt</th>\n",
       "      <th>bathroomcnt</th>\n",
       "      <th>square_footage</th>\n",
       "      <th>lot_size</th>\n",
       "      <th>house_value</th>\n",
       "      <th>land_value</th>\n",
       "      <th>full_value</th>\n",
       "      <th>tax_rate</th>\n",
       "      <th>Los_Angeles</th>\n",
       "      <th>Orange</th>\n",
       "      <th>Ventura</th>\n",
       "      <th>logerror</th>\n",
       "      <th>bed_bath_ratio</th>\n",
       "    </tr>\n",
       "  </thead>\n",
       "  <tbody>\n",
       "    <tr>\n",
       "      <td>34908</td>\n",
       "      <td>0.520456</td>\n",
       "      <td>0.522594</td>\n",
       "      <td>0.401042</td>\n",
       "      <td>0.625</td>\n",
       "      <td>0.333333</td>\n",
       "      <td>0.2</td>\n",
       "      <td>0.565886</td>\n",
       "      <td>0.288830</td>\n",
       "      <td>0.608729</td>\n",
       "      <td>0.211115</td>\n",
       "      <td>0.381740</td>\n",
       "      <td>0.558209</td>\n",
       "      <td>1.0</td>\n",
       "      <td>0.0</td>\n",
       "      <td>0.0</td>\n",
       "      <td>0.824503</td>\n",
       "      <td>0.250000</td>\n",
       "    </tr>\n",
       "    <tr>\n",
       "      <td>59687</td>\n",
       "      <td>0.776761</td>\n",
       "      <td>0.492830</td>\n",
       "      <td>0.312500</td>\n",
       "      <td>1.000</td>\n",
       "      <td>0.500000</td>\n",
       "      <td>0.2</td>\n",
       "      <td>0.351616</td>\n",
       "      <td>0.245636</td>\n",
       "      <td>0.290725</td>\n",
       "      <td>0.188570</td>\n",
       "      <td>0.241751</td>\n",
       "      <td>0.442803</td>\n",
       "      <td>1.0</td>\n",
       "      <td>0.0</td>\n",
       "      <td>0.0</td>\n",
       "      <td>0.574090</td>\n",
       "      <td>0.357143</td>\n",
       "    </tr>\n",
       "    <tr>\n",
       "      <td>2770</td>\n",
       "      <td>0.528157</td>\n",
       "      <td>0.460140</td>\n",
       "      <td>0.244792</td>\n",
       "      <td>0.000</td>\n",
       "      <td>0.500000</td>\n",
       "      <td>0.8</td>\n",
       "      <td>0.632999</td>\n",
       "      <td>0.111914</td>\n",
       "      <td>0.501819</td>\n",
       "      <td>0.803126</td>\n",
       "      <td>0.769668</td>\n",
       "      <td>0.461619</td>\n",
       "      <td>1.0</td>\n",
       "      <td>0.0</td>\n",
       "      <td>0.0</td>\n",
       "      <td>0.590715</td>\n",
       "      <td>0.100000</td>\n",
       "    </tr>\n",
       "    <tr>\n",
       "      <td>27320</td>\n",
       "      <td>0.809053</td>\n",
       "      <td>0.373196</td>\n",
       "      <td>0.276042</td>\n",
       "      <td>0.500</td>\n",
       "      <td>0.166667</td>\n",
       "      <td>0.2</td>\n",
       "      <td>0.177703</td>\n",
       "      <td>0.294366</td>\n",
       "      <td>0.131449</td>\n",
       "      <td>0.166743</td>\n",
       "      <td>0.163993</td>\n",
       "      <td>0.459827</td>\n",
       "      <td>0.0</td>\n",
       "      <td>1.0</td>\n",
       "      <td>0.0</td>\n",
       "      <td>0.587234</td>\n",
       "      <td>0.142857</td>\n",
       "    </tr>\n",
       "    <tr>\n",
       "      <td>24661</td>\n",
       "      <td>0.931276</td>\n",
       "      <td>0.132273</td>\n",
       "      <td>0.156250</td>\n",
       "      <td>0.500</td>\n",
       "      <td>0.333333</td>\n",
       "      <td>0.4</td>\n",
       "      <td>0.266444</td>\n",
       "      <td>0.353493</td>\n",
       "      <td>0.271492</td>\n",
       "      <td>0.283350</td>\n",
       "      <td>0.303035</td>\n",
       "      <td>0.295169</td>\n",
       "      <td>0.0</td>\n",
       "      <td>1.0</td>\n",
       "      <td>0.0</td>\n",
       "      <td>0.590348</td>\n",
       "      <td>0.142857</td>\n",
       "    </tr>\n",
       "  </tbody>\n",
       "</table>\n",
       "</div>"
      ],
      "text/plain": [
       "       longitude  latitude       age  month  bedroomcnt  bathroomcnt  \\\n",
       "34908   0.520456  0.522594  0.401042  0.625    0.333333          0.2   \n",
       "59687   0.776761  0.492830  0.312500  1.000    0.500000          0.2   \n",
       "2770    0.528157  0.460140  0.244792  0.000    0.500000          0.8   \n",
       "27320   0.809053  0.373196  0.276042  0.500    0.166667          0.2   \n",
       "24661   0.931276  0.132273  0.156250  0.500    0.333333          0.4   \n",
       "\n",
       "       square_footage  lot_size  house_value  land_value  full_value  \\\n",
       "34908        0.565886  0.288830     0.608729    0.211115    0.381740   \n",
       "59687        0.351616  0.245636     0.290725    0.188570    0.241751   \n",
       "2770         0.632999  0.111914     0.501819    0.803126    0.769668   \n",
       "27320        0.177703  0.294366     0.131449    0.166743    0.163993   \n",
       "24661        0.266444  0.353493     0.271492    0.283350    0.303035   \n",
       "\n",
       "       tax_rate  Los_Angeles  Orange  Ventura  logerror  bed_bath_ratio  \n",
       "34908  0.558209          1.0     0.0      0.0  0.824503        0.250000  \n",
       "59687  0.442803          1.0     0.0      0.0  0.574090        0.357143  \n",
       "2770   0.461619          1.0     0.0      0.0  0.590715        0.100000  \n",
       "27320  0.459827          0.0     1.0      0.0  0.587234        0.142857  \n",
       "24661  0.295169          0.0     1.0      0.0  0.590348        0.142857  "
      ]
     },
     "execution_count": 25,
     "metadata": {},
     "output_type": "execute_result"
    }
   ],
   "source": [
    "train_scaled.head()"
   ]
  },
  {
   "cell_type": "markdown",
   "metadata": {},
   "source": [
    "### Feature/Feature Hypothesis\n",
    "\n",
    "#### show relationship between bedroom count and bathroom count \n",
    "\n",
    "- $H_0$: Bedroom and bathroom count are not related\n",
    "- $H_a$: Bedroom and bathroom count are related\n",
    "- alpha ($\\alpha$): 1 - confidence level (95% confidence level -> $\\alpha = .05$)"
   ]
  },
  {
   "cell_type": "code",
   "execution_count": 38,
   "metadata": {},
   "outputs": [
    {
     "name": "stdout",
     "output_type": "stream",
     "text": [
      "We reject the null hypothesis\n",
      "We can say that we have confidence that bedroom count is related to bathroom count\n"
     ]
    }
   ],
   "source": [
    "x = train_scaled.bedroomcnt\n",
    "y = train_scaled.bathroomcnt\n",
    "\n",
    "alternative_hypothesis = 'bedroom count is related to bathroom count'\n",
    "alpha = .05\n",
    "\n",
    "corr, p = stats.pearsonr(x, y)\n",
    "\n",
    "corr, p\n",
    "\n",
    "if p < alpha:\n",
    "    print(\"We reject the null hypothesis\")\n",
    "    print(\"We can say that we have confidence that\", alternative_hypothesis)\n",
    "else:\n",
    "    print(\"We fail to reject the null\")"
   ]
  },
  {
   "cell_type": "markdown",
   "metadata": {},
   "source": [
    "Value/Target Hypothesis\n",
    "- $H_0$: Overall house value has no effect on logerror\n",
    "- $H_a$: Overall house value does have an effect on logerror\n",
    "- alpha ($\\alpha$): 1 - confidence level (95% confidence level -> $\\alpha = .05$)"
   ]
  },
  {
   "cell_type": "code",
   "execution_count": 40,
   "metadata": {},
   "outputs": [
    {
     "name": "stdout",
     "output_type": "stream",
     "text": [
      "We fail to reject the null\n"
     ]
    },
    {
     "data": {
      "text/plain": [
       "0.42749879868985013"
      ]
     },
     "execution_count": 40,
     "metadata": {},
     "output_type": "execute_result"
    }
   ],
   "source": [
    "from math import sqrt\n",
    "from scipy import stats\n",
    "\n",
    "x = train_scaled.house_value\n",
    "y = train_scaled.logerror\n",
    "\n",
    "alternative_hypothesis = 'house value is related to logerror'\n",
    "alpha = .05\n",
    "\n",
    "corr, p = stats.pearsonr(x, y)\n",
    "\n",
    "corr, p\n",
    "\n",
    "if p < alpha:\n",
    "    print(\"We reject the null hypothesis\")\n",
    "    print(\"We can say that we have confidence that\", alternative_hypothesis)\n",
    "else:\n",
    "    print(\"We fail to reject the null\")\n",
    "    \n",
    "p"
   ]
  },
  {
   "cell_type": "code",
   "execution_count": 42,
   "metadata": {},
   "outputs": [
    {
     "data": {
      "text/plain": [
       "<matplotlib.collections.PathCollection at 0x1a29978850>"
      ]
     },
     "execution_count": 42,
     "metadata": {},
     "output_type": "execute_result"
    },
    {
     "data": {
      "image/png": "[encoded data removed]",
      "text/plain": [
       "<Figure size 432x288 with 1 Axes>"
      ]
     },
     "metadata": {
      "needs_background": "light"
     },
     "output_type": "display_data"
    }
   ],
   "source": [
    "plt.scatter(train.logerror,train.house_value)"
   ]
  },
  {
   "cell_type": "code",
   "execution_count": null,
   "metadata": {},
   "outputs": [],
   "source": []
  }
 ],
 "metadata": {
  "kernelspec": {
   "display_name": "Python 3",
   "language": "python",
   "name": "python3"
  },
  "language_info": {
   "codemirror_mode": {
    "name": "ipython",
    "version": 3
   },
   "file_extension": ".py",
   "mimetype": "text/x-python",
   "name": "python",
   "nbconvert_exporter": "python",
   "pygments_lexer": "ipython3",
   "version": "3.7.4"
  }
 },
 "nbformat": 4,
 "nbformat_minor": 2
}
